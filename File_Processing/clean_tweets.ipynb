{
 "cells": [
  {
   "cell_type": "code",
   "execution_count": null,
   "metadata": {},
   "outputs": [],
   "source": [
    "#!pip3 install tweet-preprocessor"
   ]
  },
  {
   "cell_type": "code",
   "execution_count": 113,
   "metadata": {
    "scrolled": true
   },
   "outputs": [],
   "source": [
    "import pandas as pd\n",
    "import re\n",
    "import nltk\n",
    "import preprocessor as pre"
   ]
  },
  {
   "cell_type": "code",
   "execution_count": 114,
   "metadata": {},
   "outputs": [],
   "source": [
    "words = set(nltk.corpus.words.words())"
   ]
  },
  {
   "cell_type": "markdown",
   "metadata": {},
   "source": [
    "# Only call the clean_tweets() function"
   ]
  },
  {
   "cell_type": "code",
   "execution_count": 115,
   "metadata": {},
   "outputs": [],
   "source": [
    "def helper_clean(text):\n",
    "    '''\n",
    "    Helper function for tweet preprocessor to also remove &amp from tweet text. \n",
    "    This function is intended for use with clean_tweets() and not independently.\n",
    "    '''\n",
    "    return pre.clean(text).replace('&amp', '')"
   ]
  },
  {
   "cell_type": "code",
   "execution_count": 116,
   "metadata": {
    "scrolled": true
   },
   "outputs": [],
   "source": [
    "def frac_nonenglish(text, frac=1):\n",
    "    '''\n",
    "    Calculates fraction of nonenglish words in a given text.\n",
    "    This function is intended for use with clean_tweets() and not independently.\n",
    "    Can use smaller frac (e.g. 0.1) for faster clean_tweets() results but then \n",
    "    the nonenglish words ratio will be calculated on a smaller fraction of text. \n",
    "    '''\n",
    "    tokenizer = nltk.RegexpTokenizer(r'\\w+')\n",
    "    small_text = text[:round(len(text) * frac)]\n",
    "    tokens = tokenizer.tokenize(small_text)\n",
    "    word_count = len(tokens)\n",
    "    nonenglish_count = 0\n",
    "    words = set(nltk.corpus.words.words())\n",
    "    for word in tokens:\n",
    "        if word.lower() not in words:\n",
    "            nonenglish_count += 1\n",
    "    return round(nonenglish_count/word_count, 4)"
   ]
  },
  {
   "cell_type": "code",
   "execution_count": 117,
   "metadata": {},
   "outputs": [],
   "source": [
    "def clean_tweets(df, frac=1):\n",
    "    '''\n",
    "    Takes in a DataFrame object with 'text' column. \n",
    "    Cleans the tweets by removing URLs, emojis, smileys and mentions.\n",
    "    Stores the cleaned text in clean_text column.\n",
    "    Calculates fraction of nonenglish words and stores the value in foreign_frac column.\n",
    "    Can remove pre.OPT.EMOJI from options if we want to keep emojis.\n",
    "    \n",
    "    Returns a modified version of the input DataFrame.\n",
    "    '''\n",
    "    pre.set_options(pre.OPT.URL, pre.OPT.EMOJI, pre.OPT.SMILEY, pre.OPT.MENTION)\n",
    "    df['clean_text'] = df['text'].apply(helper_clean)\n",
    "    df['foreign_frac'] = df['clean_text'].apply(frac_nonenglish)\n",
    "    return df"
   ]
  },
  {
   "cell_type": "code",
   "execution_count": 118,
   "metadata": {},
   "outputs": [],
   "source": [
    "#RAW_CSV_PATH = \n",
    "df = pd.read_csv(RAW_CSV_PATH)"
   ]
  },
  {
   "cell_type": "code",
   "execution_count": 119,
   "metadata": {},
   "outputs": [],
   "source": [
    "cleaned_tweets = clean_tweets(df)"
   ]
  },
  {
   "cell_type": "code",
   "execution_count": 124,
   "metadata": {},
   "outputs": [],
   "source": [
    "cleaned_tweets.to_csv('cleaned_tweets.csv')"
   ]
  }
 ],
 "metadata": {
  "kernelspec": {
   "display_name": "Python 3",
   "language": "python",
   "name": "python3"
  },
  "language_info": {
   "codemirror_mode": {
    "name": "ipython",
    "version": 3
   },
   "file_extension": ".py",
   "mimetype": "text/x-python",
   "name": "python",
   "nbconvert_exporter": "python",
   "pygments_lexer": "ipython3",
   "version": "3.8.3"
  }
 },
 "nbformat": 4,
 "nbformat_minor": 1
}
