{
 "cells": [
  {
   "cell_type": "markdown",
   "metadata": {},
   "source": [
    "# Sabina Hartnett: Classification Final\n",
    "\n",
    "kNN performed consistently about as good as random coin toss.\n",
    "Naive Bayes and Logistic Regression/PCA performed consistently the best\n",
    "Neural Networks and SVMs also performed quite well, with NN generally performing better.\n",
    "\n",
    "So this notebook trains and evaluates Logistic Regression and PCA analysis, Naive Bayes Classification and Multilayer Perceptron Neural Network Classification on the full dataset as well as specified subsets in order to test the performance of these classifiers and the ability of unseen subsets of this dataset to be accurately classified."
   ]
  },
  {
   "cell_type": "code",
   "execution_count": 1,
   "metadata": {},
   "outputs": [],
   "source": [
    "#Special module written for this class\n",
    "#This provides access to data and to helper functions from previous weeks\n",
    "#Make sure you update it before starting this notebook\n",
    "import lucem_illud #pip install -U git+git://github.com/UChicago-Computational-Content-Analysis/lucem_illud.git\n",
    "\n",
    "#All these packages need to be installed from pip\n",
    "#For ML\n",
    "import sklearn\n",
    "import sklearn.naive_bayes\n",
    "import sklearn.tree\n",
    "import sklearn.ensemble\n",
    "import sklearn.neural_network\n",
    "import sklearn.decomposition\n",
    "\n",
    "import numpy as np #arrays\n",
    "import matplotlib.pyplot as plt #Plots\n",
    "import matplotlib.colors # For nice colours\n",
    "import seaborn #Makes plots look nice, also heatmaps\n",
    "import scipy as sp #for interp\n",
    "\n",
    "#These are from the standard library\n",
    "import collections\n",
    "import os\n",
    "import os.path\n",
    "import random\n",
    "import re\n",
    "import glob\n",
    "import pandas\n",
    "import requests\n",
    "import json\n",
    "import math\n",
    "\n",
    "#This 'magic' command makes the plots work better\n",
    "#in the notebook, don't use it outside of a notebook.\n",
    "#Also you can ignore the warning\n",
    "%matplotlib inline"
   ]
  },
  {
   "cell_type": "code",
   "execution_count": 2,
   "metadata": {},
   "outputs": [],
   "source": [
    "p_tweetsDF = pandas.read_csv('Data/cleaned_tokenized.csv', index_col=False)\n",
    "#p_tweetsDF = pandas.read_csv('Data/cleaned_tweets.csv', index_col=False)\n",
    "#p_tweetsDF = p_tweetsDF1.sample(frac = 0.1)"
   ]
  },
  {
   "cell_type": "code",
   "execution_count": 3,
   "metadata": {},
   "outputs": [],
   "source": [
    "results_df = pandas.DataFrame(columns =['Model', 'Data', 'TestError'])"
   ]
  },
  {
   "cell_type": "code",
   "execution_count": 4,
   "metadata": {},
   "outputs": [
    {
     "data": {
      "text/html": [
       "<div>\n",
       "<style scoped>\n",
       "    .dataframe tbody tr th:only-of-type {\n",
       "        vertical-align: middle;\n",
       "    }\n",
       "\n",
       "    .dataframe tbody tr th {\n",
       "        vertical-align: top;\n",
       "    }\n",
       "\n",
       "    .dataframe thead th {\n",
       "        text-align: right;\n",
       "    }\n",
       "</style>\n",
       "<table border=\"1\" class=\"dataframe\">\n",
       "  <thead>\n",
       "    <tr style=\"text-align: right;\">\n",
       "      <th></th>\n",
       "      <th>Model</th>\n",
       "      <th>Data</th>\n",
       "      <th>TestError</th>\n",
       "    </tr>\n",
       "  </thead>\n",
       "  <tbody>\n",
       "  </tbody>\n",
       "</table>\n",
       "</div>"
      ],
      "text/plain": [
       "Empty DataFrame\n",
       "Columns: [Model, Data, TestError]\n",
       "Index: []"
      ]
     },
     "execution_count": 4,
     "metadata": {},
     "output_type": "execute_result"
    }
   ],
   "source": [
    "results_df.head()"
   ]
  },
  {
   "cell_type": "code",
   "execution_count": 5,
   "metadata": {},
   "outputs": [],
   "source": [
    "#results_df = results_df.append({'Model': 'string', 'Data': 'another string', 'TestError':2}, ignore_index = True)"
   ]
  },
  {
   "cell_type": "code",
   "execution_count": 6,
   "metadata": {},
   "outputs": [],
   "source": [
    "#print(results_df)"
   ]
  },
  {
   "cell_type": "code",
   "execution_count": 7,
   "metadata": {},
   "outputs": [],
   "source": [
    "#only need to do this on first run\n",
    "#p_tweetsDF['tokenized_text'] = p_tweetsDF['clean_text'].apply(lambda x: lucem_illud.word_tokenize(x))\n",
    "#p_tweetsDF['normalized_text'] = p_tweetsDF['tokenized_text'].apply(lambda x: lucem_illud.normalizeTokens(x))"
   ]
  },
  {
   "cell_type": "code",
   "execution_count": 8,
   "metadata": {},
   "outputs": [],
   "source": [
    "#p_tweetsDF.to_csv('Data/cleaned_tokenized.csv')"
   ]
  },
  {
   "cell_type": "markdown",
   "metadata": {},
   "source": [
    "## Analysts:\n",
    "Architect (INTJ), Logician (INTP), Commander (ENTJ), Debater (ENTP)\n",
    "--> ..'NT'..\n",
    "\n",
    "## Diplomats\n",
    "Advocate (INFJ), Mediator (INFP), Protagonist (ENFJ), Campaigner (ENFP)\n",
    "--> ..'NF'..\n",
    "## Sentinels\n",
    "Logistician (ISTJ), Defender (ISFJ), Executive (ESTJ), Consul (ESFJ)\n",
    "--> ..'S'..'J'\n",
    "## Explorers\n",
    "Virtuoso (ISTP), Adventurer (ISFP), Entrepreneur (ESTP), Entertainer (ESFP)\n",
    "--> ..'S'..'P'\n",
    "\n",
    "As we can see above, according to the 16 personality types theory, Intuitive vs Observant is the most important factor in determining someones' personality group type"
   ]
  },
  {
   "cell_type": "code",
   "execution_count": 9,
   "metadata": {},
   "outputs": [],
   "source": [
    "def categorize(df, attribute):\n",
    "    \n",
    "    df['category'] = [(categ == 1) for categ in df[attribute]]\n",
    "    \n",
    "    return df"
   ]
  },
  {
   "cell_type": "code",
   "execution_count": 10,
   "metadata": {},
   "outputs": [],
   "source": [
    "extravert_df = categorize(p_tweetsDF, 'extravert')\n",
    "intuitive_df = categorize(p_tweetsDF, 'intuitive')\n",
    "judging_df = categorize(p_tweetsDF, 'judging')\n",
    "thinking_df = categorize(p_tweetsDF, 'thinking')\n",
    "\n",
    "analyst = 'NT'\n",
    "diplomat = 'NF'\n",
    "sentinel = 'SJ'\n",
    "explorer = 'SP'\n",
    "\n",
    "analyst_df = categorize(p_tweetsDF, 'NT')\n",
    "diplomat_df = categorize(p_tweetsDF, 'NF')\n",
    "sentinel_df = categorize(p_tweetsDF, 'SJ')\n",
    "explorer_df = categorize(p_tweetsDF, 'SP')\n",
    "\n",
    "SF_df = categorize(p_tweetsDF, 'SF')\n",
    "ST_df = categorize(p_tweetsDF, 'ST')\n",
    "NJ_df = categorize(p_tweetsDF, 'NJ')\n",
    "NP_df = categorize(p_tweetsDF, 'NP')"
   ]
  },
  {
   "cell_type": "code",
   "execution_count": 11,
   "metadata": {},
   "outputs": [],
   "source": [
    "#mask1 = SF_df.loc[:, 'extravert'] == 1"
   ]
  },
  {
   "cell_type": "code",
   "execution_count": 12,
   "metadata": {},
   "outputs": [],
   "source": [
    "def sample_combo_df(df, attribute1, attribute2, num_obs, test_frac):\n",
    "    '''\n",
    "    '''\n",
    "    if attribute2 == 'not':\n",
    "        attribute2 = attribute1\n",
    "        matching2 = 0\n",
    "    else:\n",
    "        matching2 = 1\n",
    "    \n",
    "    mask1 = df.loc[:, attribute1] == 1\n",
    "    df1 = df[mask1].sample(num_obs)\n",
    "    df1Train, df1Test = lucem_illud.trainTestSplit(df1, holdBackFraction =test_frac)\n",
    "    \n",
    "    mask2 = df.loc[:, attribute2] == matching2\n",
    "    df2 = df[mask2].sample(num_obs)\n",
    "    df2Train, df2Test = lucem_illud.trainTestSplit(df2, holdBackFraction =test_frac)\n",
    "    \n",
    "    train_data = df1Train.append(df2Train, ignore_index =True)\n",
    "    test_data = df1Test.append(df2Test, ignore_index =True)\n",
    "    \n",
    "    return train_data, test_data"
   ]
  },
  {
   "cell_type": "code",
   "execution_count": 13,
   "metadata": {},
   "outputs": [],
   "source": [
    "#dftest1, dftest2 = sample_combo_df(p_tweetsDF, 'extravert', 'intuitive', 10, 0.1)"
   ]
  },
  {
   "cell_type": "code",
   "execution_count": 14,
   "metadata": {},
   "outputs": [],
   "source": [
    "#dftest1"
   ]
  },
  {
   "cell_type": "code",
   "execution_count": 15,
   "metadata": {},
   "outputs": [],
   "source": [
    "def naive_bayes(train_df, test_df):\n",
    "    \n",
    "    \n",
    "    naiveBayes = sklearn.naive_bayes.BernoulliNB()\n",
    "    naiveBayes.fit(np.stack(train_df['vect'], axis=0), train_df['category'])\n",
    "    training_err = naiveBayes.score(np.stack(train_df['vect'], axis=0), train_df['category'])\n",
    "    testing_err = naiveBayes.score(np.stack(test_df['vect'], axis=0), test_df['category'])\n",
    "    print(\"training error:\", training_err)\n",
    "    print(\"testing error:\", testing_err)\n",
    "    \n",
    "    return (training_err, testing_err)"
   ]
  },
  {
   "cell_type": "code",
   "execution_count": 16,
   "metadata": {},
   "outputs": [],
   "source": [
    "def SVM(combinedDF, test_frac=0.1):\n",
    "    '''linear kernel SVM\n",
    "    note: needs to take a DF with a category'''\n",
    "    combinedDF = combinedDF.sample(100)\n",
    "    \n",
    "    TFVectorizer = sklearn.feature_extraction.text.TfidfVectorizer(max_df=0.5, min_df=3, stop_words='english', norm='l2')\n",
    "    clf_svm = sklearn.svm.SVC(kernel='linear', probability = False)\n",
    "    \n",
    "    TFVects = TFVectorizer.fit_transform([' '.join(l) for l in combinedDF['normalized_text']])\n",
    "    combinedDF['vect'] = [np.array(v).flatten() for v in TFVects.todense()]\n",
    "    \n",
    "    trainDF, testDF = lucem_illud.trainTestSplit(combinedDF, holdBackFraction=test_frac)\n",
    "    \n",
    "    clf_svm.fit(np.stack(trainDF['vect'], axis=0), trainDF['category'])\n",
    "    \n",
    "    evaluate = lucem_illud.evaluateClassifier(clf_svm, testDF)\n",
    "    lucem_illud.plotConfusionMatrix(clf_svm, testDF)\n",
    "    \n",
    "    return evaluate\n",
    "    "
   ]
  },
  {
   "cell_type": "code",
   "execution_count": 17,
   "metadata": {},
   "outputs": [],
   "source": [
    "def NeuralNet(train_DF, test_DF):\n",
    "    '''MLP'''\n",
    "    clf_nn = sklearn.neural_network.MLPClassifier()\n",
    "    clf_nn.fit(np.stack(train_DF['vect'], axis=0), train_DF['category'])\n",
    "    evaluate = lucem_illud.evaluateClassifier(clf_nn, test_DF)\n",
    "    \n",
    "    lucem_illud.plotConfusionMatrix(clf_nn, test_DF)\n",
    "    \n",
    "    return evaluate"
   ]
  },
  {
   "cell_type": "code",
   "execution_count": 18,
   "metadata": {},
   "outputs": [],
   "source": [
    "#can be run with naive bayes,\n",
    "def train_test_clf(df, attribute, model, holdBackFraction =0.1):\n",
    "    '''\n",
    "    '''\n",
    "    \n",
    "    dfTrain, dfTest = lucem_illud.trainTestSplit(df, holdBackFraction=holdBackFraction)\n",
    "    \n",
    "    model.fit(np.stack(dfTrain['vect'], axis=0), dfTrain['category'])\n",
    "    np.stack(dfTrain['vect'])\n",
    "    evaluation = lucem_illud.evaluateClassifier(model, dfTest)\n",
    "    lucem_illud.plotConfusionMatrix(clf, dfTest)\n",
    "    lucem_illud.plotMultiROC(clf, dfTest)\n",
    "    \n",
    "    return evaluation"
   ]
  },
  {
   "cell_type": "code",
   "execution_count": 19,
   "metadata": {},
   "outputs": [],
   "source": [
    "def logit_reg_PCA(dfTrain, dfTest):\n",
    "    '''\n",
    "    '''\n",
    "    \n",
    "    logistic = sklearn.linear_model.LogisticRegression()\n",
    "    \n",
    "    TFVectorizer = sklearn.feature_extraction.text.TfidfVectorizer(max_df=100, min_df=2, stop_words='english', norm='l2')\n",
    "    TFVects = TFVectorizer.fit_transform(dfTrain['clean_text'])\n",
    "    #TFVects is a sparse matrix, so we'll make a dense matrix\n",
    "    dfTrain['vect'] = [np.array(v).flatten() for v in TFVects.todense()]\n",
    "    pca = sklearn.decomposition.PCA()\n",
    "    reduced_data = pca.fit_transform(np.stack(dfTrain['vect'], axis=0))\n",
    "    dfTrain['pca'] = [r for r in reduced_data]\n",
    "    \n",
    "    #Create vectors\n",
    "    TFVects_test = TFVectorizer.transform(dfTest['clean_text'])\n",
    "    dfTest['vect'] = [np.array(v).flatten() for v in TFVects_test.todense()]\n",
    "\n",
    "    #PCA\n",
    "    reduced_data_test = pca.transform(np.stack(dfTest['vect'], axis=0))\n",
    "    dfTest['pca'] = [r for r in reduced_data_test]\n",
    "    \n",
    "    testing_scores = []\n",
    "    training_scores = []\n",
    "    for PCA in range(1,len(dfTrain)):\n",
    "        str_col = 'pca_reduct_' + str(PCA)\n",
    "        dfTrain[str_col] = dfTrain['pca'].apply(lambda x: x[:PCA])\n",
    "        dfTest[str_col] = dfTest['pca'].apply(lambda x: x[:PCA])\n",
    "\n",
    "        logistic.fit(np.stack(dfTrain[str_col], axis=0), dfTrain['category'])\n",
    "\n",
    "        training_scores.append(logistic.score(np.stack(dfTrain[str_col], axis=0), dfTrain['category']))\n",
    "        testing_scores.append(logistic.score(np.stack(dfTest[str_col], axis=0), dfTest['category']))\n",
    "    \n",
    "    PCA_train_test = pandas.DataFrame({'training:': training_scores, 'testing': testing_scores})\n",
    "    PCA_train_test.plot.line()\n"
   ]
  },
  {
   "cell_type": "code",
   "execution_count": 20,
   "metadata": {
    "scrolled": false
   },
   "outputs": [
    {
     "data": {
      "text/html": [
       "<div>\n",
       "<style scoped>\n",
       "    .dataframe tbody tr th:only-of-type {\n",
       "        vertical-align: middle;\n",
       "    }\n",
       "\n",
       "    .dataframe tbody tr th {\n",
       "        vertical-align: top;\n",
       "    }\n",
       "\n",
       "    .dataframe thead th {\n",
       "        text-align: right;\n",
       "    }\n",
       "</style>\n",
       "<table border=\"1\" class=\"dataframe\">\n",
       "  <thead>\n",
       "    <tr style=\"text-align: right;\">\n",
       "      <th></th>\n",
       "      <th>Unnamed: 0</th>\n",
       "      <th>Unnamed: 0.1</th>\n",
       "      <th>liked_by</th>\n",
       "      <th>text</th>\n",
       "      <th>type</th>\n",
       "      <th>extravert</th>\n",
       "      <th>intuitive</th>\n",
       "      <th>thinking</th>\n",
       "      <th>judging</th>\n",
       "      <th>NT</th>\n",
       "      <th>...</th>\n",
       "      <th>ST</th>\n",
       "      <th>NJ</th>\n",
       "      <th>NP</th>\n",
       "      <th>SJ</th>\n",
       "      <th>SP</th>\n",
       "      <th>foreign_frac</th>\n",
       "      <th>clean_text</th>\n",
       "      <th>tokenized_text</th>\n",
       "      <th>normalized_text</th>\n",
       "      <th>category</th>\n",
       "    </tr>\n",
       "  </thead>\n",
       "  <tbody>\n",
       "    <tr>\n",
       "      <th>0</th>\n",
       "      <td>0</td>\n",
       "      <td>0</td>\n",
       "      <td>1271680686576058368</td>\n",
       "      <td>just found out someone confessed /r feelings t...</td>\n",
       "      <td>ESTP</td>\n",
       "      <td>1</td>\n",
       "      <td>0</td>\n",
       "      <td>1</td>\n",
       "      <td>0</td>\n",
       "      <td>0</td>\n",
       "      <td>...</td>\n",
       "      <td>1</td>\n",
       "      <td>0</td>\n",
       "      <td>0</td>\n",
       "      <td>0</td>\n",
       "      <td>1</td>\n",
       "      <td>0.3094</td>\n",
       "      <td>just found out someone confessed /r feelings t...</td>\n",
       "      <td>['just', 'found', 'out', 'someone', 'confessed...</td>\n",
       "      <td>['find', 'confess', '/r', 'feeling', 'oliver',...</td>\n",
       "      <td>False</td>\n",
       "    </tr>\n",
       "    <tr>\n",
       "      <th>1</th>\n",
       "      <td>1</td>\n",
       "      <td>1</td>\n",
       "      <td>14283777</td>\n",
       "      <td>Wait. Who called him the “Italian Stallion”???...</td>\n",
       "      <td>ESTP</td>\n",
       "      <td>1</td>\n",
       "      <td>0</td>\n",
       "      <td>1</td>\n",
       "      <td>0</td>\n",
       "      <td>0</td>\n",
       "      <td>...</td>\n",
       "      <td>1</td>\n",
       "      <td>0</td>\n",
       "      <td>0</td>\n",
       "      <td>0</td>\n",
       "      <td>1</td>\n",
       "      <td>0.2267</td>\n",
       "      <td>Wait. Who called him the “Italian Stallion”???...</td>\n",
       "      <td>['Wait', 'Who', 'called', 'him', 'the', 'Itali...</td>\n",
       "      <td>['wait', 'call', 'italian', 'stallion', 'grate...</td>\n",
       "      <td>False</td>\n",
       "    </tr>\n",
       "    <tr>\n",
       "      <th>2</th>\n",
       "      <td>2</td>\n",
       "      <td>5</td>\n",
       "      <td>956641603384377346</td>\n",
       "      <td>\"This is like two of my Uncles fighting at the...</td>\n",
       "      <td>ESTP</td>\n",
       "      <td>1</td>\n",
       "      <td>0</td>\n",
       "      <td>1</td>\n",
       "      <td>0</td>\n",
       "      <td>0</td>\n",
       "      <td>...</td>\n",
       "      <td>1</td>\n",
       "      <td>0</td>\n",
       "      <td>0</td>\n",
       "      <td>0</td>\n",
       "      <td>1</td>\n",
       "      <td>0.2888</td>\n",
       "      <td>\"This is like two of my Uncles fighting at the...</td>\n",
       "      <td>['This', 'is', 'like', 'two', 'of', 'my', 'Unc...</td>\n",
       "      <td>['like', 'uncle', 'fight', 'bbq', 'tysonvsjone...</td>\n",
       "      <td>False</td>\n",
       "    </tr>\n",
       "    <tr>\n",
       "      <th>3</th>\n",
       "      <td>3</td>\n",
       "      <td>6</td>\n",
       "      <td>975396348504821766</td>\n",
       "      <td>ur welcome https://t.co/e2KF57KLxbI'm losing m...</td>\n",
       "      <td>ESTP</td>\n",
       "      <td>1</td>\n",
       "      <td>0</td>\n",
       "      <td>1</td>\n",
       "      <td>0</td>\n",
       "      <td>0</td>\n",
       "      <td>...</td>\n",
       "      <td>1</td>\n",
       "      <td>0</td>\n",
       "      <td>0</td>\n",
       "      <td>0</td>\n",
       "      <td>1</td>\n",
       "      <td>0.3575</td>\n",
       "      <td>ur welcome losing my fucking mind : mfs with c...</td>\n",
       "      <td>['ur', 'welcome', 'losing', 'my', 'fucking', '...</td>\n",
       "      <td>['ur', 'welcome', 'lose', 'fuck', 'mind', 'mfs...</td>\n",
       "      <td>False</td>\n",
       "    </tr>\n",
       "    <tr>\n",
       "      <th>4</th>\n",
       "      <td>4</td>\n",
       "      <td>7</td>\n",
       "      <td>1053019674600976385</td>\n",
       "      <td>https://t.co/DFf1NhbRq5If You’re Too Shy (Let ...</td>\n",
       "      <td>ESTP</td>\n",
       "      <td>1</td>\n",
       "      <td>0</td>\n",
       "      <td>1</td>\n",
       "      <td>0</td>\n",
       "      <td>0</td>\n",
       "      <td>...</td>\n",
       "      <td>1</td>\n",
       "      <td>0</td>\n",
       "      <td>0</td>\n",
       "      <td>0</td>\n",
       "      <td>1</td>\n",
       "      <td>0.4863</td>\n",
       "      <td>You’re Too Shy (Let Me Know) by The 1975 2017 ...</td>\n",
       "      <td>['You', '’re', 'Too', 'Shy', 'Let', 'Me', 'Kno...</td>\n",
       "      <td>['shy', 'let', 'know', 'kiss', 'long', 'eye', ...</td>\n",
       "      <td>False</td>\n",
       "    </tr>\n",
       "  </tbody>\n",
       "</table>\n",
       "<p>5 rows × 22 columns</p>\n",
       "</div>"
      ],
      "text/plain": [
       "   Unnamed: 0  Unnamed: 0.1             liked_by  \\\n",
       "0           0             0  1271680686576058368   \n",
       "1           1             1             14283777   \n",
       "2           2             5   956641603384377346   \n",
       "3           3             6   975396348504821766   \n",
       "4           4             7  1053019674600976385   \n",
       "\n",
       "                                                text  type  extravert  \\\n",
       "0  just found out someone confessed /r feelings t...  ESTP          1   \n",
       "1  Wait. Who called him the “Italian Stallion”???...  ESTP          1   \n",
       "2  \"This is like two of my Uncles fighting at the...  ESTP          1   \n",
       "3  ur welcome https://t.co/e2KF57KLxbI'm losing m...  ESTP          1   \n",
       "4  https://t.co/DFf1NhbRq5If You’re Too Shy (Let ...  ESTP          1   \n",
       "\n",
       "   intuitive  thinking  judging  NT  ...  ST  NJ  NP  SJ  SP  foreign_frac  \\\n",
       "0          0         1        0   0  ...   1   0   0   0   1        0.3094   \n",
       "1          0         1        0   0  ...   1   0   0   0   1        0.2267   \n",
       "2          0         1        0   0  ...   1   0   0   0   1        0.2888   \n",
       "3          0         1        0   0  ...   1   0   0   0   1        0.3575   \n",
       "4          0         1        0   0  ...   1   0   0   0   1        0.4863   \n",
       "\n",
       "                                          clean_text  \\\n",
       "0  just found out someone confessed /r feelings t...   \n",
       "1  Wait. Who called him the “Italian Stallion”???...   \n",
       "2  \"This is like two of my Uncles fighting at the...   \n",
       "3  ur welcome losing my fucking mind : mfs with c...   \n",
       "4  You’re Too Shy (Let Me Know) by The 1975 2017 ...   \n",
       "\n",
       "                                      tokenized_text  \\\n",
       "0  ['just', 'found', 'out', 'someone', 'confessed...   \n",
       "1  ['Wait', 'Who', 'called', 'him', 'the', 'Itali...   \n",
       "2  ['This', 'is', 'like', 'two', 'of', 'my', 'Unc...   \n",
       "3  ['ur', 'welcome', 'losing', 'my', 'fucking', '...   \n",
       "4  ['You', '’re', 'Too', 'Shy', 'Let', 'Me', 'Kno...   \n",
       "\n",
       "                                     normalized_text category  \n",
       "0  ['find', 'confess', '/r', 'feeling', 'oliver',...    False  \n",
       "1  ['wait', 'call', 'italian', 'stallion', 'grate...    False  \n",
       "2  ['like', 'uncle', 'fight', 'bbq', 'tysonvsjone...    False  \n",
       "3  ['ur', 'welcome', 'lose', 'fuck', 'mind', 'mfs...    False  \n",
       "4  ['shy', 'let', 'know', 'kiss', 'long', 'eye', ...    False  \n",
       "\n",
       "[5 rows x 22 columns]"
      ]
     },
     "execution_count": 20,
     "metadata": {},
     "output_type": "execute_result"
    }
   ],
   "source": [
    "extravert_df.head()\n",
    "#t_err, tst_err = naive_bayes(extravert_df)\n"
   ]
  },
  {
   "cell_type": "markdown",
   "metadata": {},
   "source": [
    "## Extraverts vs. Introverts\n",
    "using the full dataset"
   ]
  },
  {
   "cell_type": "code",
   "execution_count": 21,
   "metadata": {},
   "outputs": [],
   "source": [
    "num_obs = 500\n",
    "test_frac = 0.1"
   ]
  },
  {
   "cell_type": "code",
   "execution_count": 22,
   "metadata": {},
   "outputs": [],
   "source": [
    "extravert_df500 = extravert_df.sample(500)"
   ]
  },
  {
   "cell_type": "code",
   "execution_count": 23,
   "metadata": {},
   "outputs": [],
   "source": [
    "extvert_dfTrain, exvert_dfTest = lucem_illud.trainTestSplit(extravert_df500, holdBackFraction =0.1)"
   ]
  },
  {
   "cell_type": "code",
   "execution_count": 24,
   "metadata": {},
   "outputs": [
    {
     "data": {
      "image/png": "[encoded data removed]",
      "text/plain": [
       "<Figure size 432x288 with 1 Axes>"
      ]
     },
     "metadata": {
      "needs_background": "light"
     },
     "output_type": "display_data"
    }
   ],
   "source": [
    "logit_reg_PCA(extvert_dfTrain, exvert_dfTest)"
   ]
  },
  {
   "cell_type": "code",
   "execution_count": 25,
   "metadata": {},
   "outputs": [
    {
     "name": "stdout",
     "output_type": "stream",
     "text": [
      "training error: 0.9333333333333333\n",
      "testing error: 0.82\n"
     ]
    }
   ],
   "source": [
    "extr_NB = naive_bayes(extvert_dfTrain, exvert_dfTest)"
   ]
  },
  {
   "cell_type": "code",
   "execution_count": 26,
   "metadata": {},
   "outputs": [
    {
     "data": {
      "text/plain": [
       "0.82"
      ]
     },
     "execution_count": 26,
     "metadata": {},
     "output_type": "execute_result"
    }
   ],
   "source": [
    "extr_NB[1] #testing error"
   ]
  },
  {
   "cell_type": "code",
   "execution_count": 27,
   "metadata": {},
   "outputs": [],
   "source": [
    "results_df = results_df.append({'Model': 'Naive Bayes', 'Data': 'Full Set Intro vs Extraverts', 'TestError': 1-extr_NB[1]}, ignore_index = True)"
   ]
  },
  {
   "cell_type": "code",
   "execution_count": 28,
   "metadata": {},
   "outputs": [
    {
     "data": {
      "text/plain": [
       "1870    ['writer', 'block', 'wrong', 'obsess', 'w', 'o...\n",
       "1877    ['gnight', 'way', 'tomorrow', 'tomorrow', 'tom...\n",
       "2939    ['million', 'people', 'texas', 'electricity', ...\n",
       "1680    ['be', 'finally', 'eat', 'inside', 'yasssssss'...\n",
       "2919    ['reminder', 'senate', 'week', 'go', 'work', '...\n",
       "                              ...                        \n",
       "1762    ['wait', 'apple', 'car', 'mir', 'haben', 'die'...\n",
       "306     ['r', 'u', 'gon', 'na', 'bed', 'plushiesheartw...\n",
       "583     ['hand', 'cat', 'human', 'filter', 'fulfill', ...\n",
       "913     ['worldcancerday', 'think', 'little', 'bean', ...\n",
       "3232    ['quack', 'round', 'nigga', 'fuck', 'coocooo',...\n",
       "Name: normalized_text, Length: 500, dtype: object"
      ]
     },
     "execution_count": 28,
     "metadata": {},
     "output_type": "execute_result"
    }
   ],
   "source": [
    "extravert_df500['normalized_text']"
   ]
  },
  {
   "cell_type": "code",
   "execution_count": 29,
   "metadata": {},
   "outputs": [],
   "source": [
    "#extraSVMeval = SVM(extravert_df500, test_frac)"
   ]
  },
  {
   "cell_type": "code",
   "execution_count": 30,
   "metadata": {},
   "outputs": [],
   "source": [
    "#print(extraSVMeval)"
   ]
  },
  {
   "cell_type": "code",
   "execution_count": 31,
   "metadata": {},
   "outputs": [],
   "source": [
    "#ex_avSVM_err = (extraSVMeval['Error_Rate'][0] + extraSVMeval['Error_Rate'][1])/2\n",
    "#results_df = results_df.append({'Model': 'SVM', 'Data': 'Full Set Intro vs Extraverts', 'TestError': 1-ex_avSVM_err}, ignore_index = True)"
   ]
  },
  {
   "cell_type": "code",
   "execution_count": 32,
   "metadata": {},
   "outputs": [
    {
     "data": {
      "image/png": "[encoded data removed]",
      "text/plain": [
       "<Figure size 432x288 with 1 Axes>"
      ]
     },
     "metadata": {
      "needs_background": "light"
     },
     "output_type": "display_data"
    }
   ],
   "source": [
    "extraNNeval = NeuralNet(extvert_dfTrain, exvert_dfTest)"
   ]
  },
  {
   "cell_type": "code",
   "execution_count": 33,
   "metadata": {},
   "outputs": [
    {
     "name": "stdout",
     "output_type": "stream",
     "text": [
      "          Error_Rate       AUC  Precision  Average_Precision    Recall\n",
      "Category                                                              \n",
      "False           0.36  0.390244   0.780488           0.789161  0.780488\n",
      "True            0.36  0.390244   0.000000           0.180000  0.000000\n"
     ]
    }
   ],
   "source": [
    "print(extraNNeval)"
   ]
  },
  {
   "cell_type": "code",
   "execution_count": 34,
   "metadata": {},
   "outputs": [],
   "source": [
    "ex_avNN_err = (extraNNeval['Error_Rate'][0] + extraNNeval['Error_Rate'][1])/2\n",
    "results_df = results_df.append({'Model': 'NN', 'Data': 'Full Set Intro vs Extraverts', 'TestError': ex_avNN_err}, ignore_index = True)"
   ]
  },
  {
   "cell_type": "markdown",
   "metadata": {},
   "source": [
    "## Intuitive vs. Observant\n",
    "using the full dataset"
   ]
  },
  {
   "cell_type": "code",
   "execution_count": 35,
   "metadata": {},
   "outputs": [],
   "source": [
    "intuitive_df500 = intuitive_df.sample(500)"
   ]
  },
  {
   "cell_type": "code",
   "execution_count": 36,
   "metadata": {},
   "outputs": [],
   "source": [
    "N_dfTrain, N_dfTest = lucem_illud.trainTestSplit(intuitive_df500, holdBackFraction =0.1)"
   ]
  },
  {
   "cell_type": "code",
   "execution_count": 37,
   "metadata": {},
   "outputs": [
    {
     "data": {
      "image/png": "[encoded data removed]",
      "text/plain": [
       "<Figure size 432x288 with 1 Axes>"
      ]
     },
     "metadata": {
      "needs_background": "light"
     },
     "output_type": "display_data"
    }
   ],
   "source": [
    "logit_reg_PCA(N_dfTrain, N_dfTest)"
   ]
  },
  {
   "cell_type": "code",
   "execution_count": 38,
   "metadata": {},
   "outputs": [
    {
     "name": "stdout",
     "output_type": "stream",
     "text": [
      "training error: 0.9622222222222222\n",
      "testing error: 0.68\n"
     ]
    }
   ],
   "source": [
    "intuitNB = naive_bayes(N_dfTrain, N_dfTest)"
   ]
  },
  {
   "cell_type": "code",
   "execution_count": 39,
   "metadata": {},
   "outputs": [
    {
     "data": {
      "image/png": "[encoded data removed]",
      "text/plain": [
       "<Figure size 432x288 with 1 Axes>"
      ]
     },
     "metadata": {
      "needs_background": "light"
     },
     "output_type": "display_data"
    }
   ],
   "source": [
    "intuitNNeval = NeuralNet(N_dfTrain, N_dfTest)"
   ]
  },
  {
   "cell_type": "code",
   "execution_count": 40,
   "metadata": {},
   "outputs": [
    {
     "name": "stdout",
     "output_type": "stream",
     "text": [
      "          Error_Rate       AUC  Precision  Average_Precision    Recall\n",
      "Category                                                              \n",
      "False           0.34  0.471429     0.6875           0.688214  0.942857\n",
      "True            0.34  0.471429     0.0000           0.300000  0.000000\n"
     ]
    }
   ],
   "source": [
    "print(intuitNNeval)"
   ]
  },
  {
   "cell_type": "code",
   "execution_count": 41,
   "metadata": {},
   "outputs": [],
   "source": [
    "results_df = results_df.append({'Model': 'Naive Bayes', 'Data': 'Full Set Intuitive vs Observant', 'TestError': 1-intuitNB[1]}, ignore_index = True)\n",
    "intuit_avNN_err = (intuitNNeval['Error_Rate'][0] + intuitNNeval['Error_Rate'][1])/2\n",
    "results_df = results_df.append({'Model': 'NN', 'Data': 'Full Set Intuitive vs Observant', 'TestError': intuit_avNN_err}, ignore_index = True)"
   ]
  },
  {
   "cell_type": "markdown",
   "metadata": {},
   "source": [
    "## Judging vs. Prospecting\n",
    "using the full dataset"
   ]
  },
  {
   "cell_type": "code",
   "execution_count": 42,
   "metadata": {},
   "outputs": [],
   "source": [
    "judging_df500 = judging_df.sample(500)"
   ]
  },
  {
   "cell_type": "code",
   "execution_count": 43,
   "metadata": {},
   "outputs": [],
   "source": [
    "J_dfTrain, J_dfTest = lucem_illud.trainTestSplit(judging_df500, holdBackFraction =0.1)"
   ]
  },
  {
   "cell_type": "code",
   "execution_count": 44,
   "metadata": {},
   "outputs": [
    {
     "data": {
      "image/png": "[encoded data removed]",
      "text/plain": [
       "<Figure size 432x288 with 1 Axes>"
      ]
     },
     "metadata": {
      "needs_background": "light"
     },
     "output_type": "display_data"
    }
   ],
   "source": [
    "logit_reg_PCA(J_dfTrain, J_dfTest)"
   ]
  },
  {
   "cell_type": "code",
   "execution_count": 45,
   "metadata": {},
   "outputs": [
    {
     "name": "stdout",
     "output_type": "stream",
     "text": [
      "training error: 0.9755555555555555\n",
      "testing error: 0.56\n"
     ]
    }
   ],
   "source": [
    "judgNB = naive_bayes(J_dfTrain, J_dfTest)"
   ]
  },
  {
   "cell_type": "code",
   "execution_count": 46,
   "metadata": {},
   "outputs": [
    {
     "data": {
      "image/png": "[encoded data removed]",
      "text/plain": [
       "<Figure size 432x288 with 1 Axes>"
      ]
     },
     "metadata": {
      "needs_background": "light"
     },
     "output_type": "display_data"
    }
   ],
   "source": [
    "judgNNeval = NeuralNet(J_dfTrain, J_dfTest)"
   ]
  },
  {
   "cell_type": "code",
   "execution_count": 47,
   "metadata": {},
   "outputs": [
    {
     "name": "stdout",
     "output_type": "stream",
     "text": [
      "          Error_Rate      AUC  Precision  Average_Precision    Recall\n",
      "Category                                                             \n",
      "False           0.44  0.50487     0.5625           0.562411  0.964286\n",
      "True            0.44  0.50487     0.5000           0.442727  0.045455\n"
     ]
    }
   ],
   "source": [
    "print(judgNNeval)"
   ]
  },
  {
   "cell_type": "code",
   "execution_count": 48,
   "metadata": {},
   "outputs": [],
   "source": [
    "results_df = results_df.append({'Model': 'Naive Bayes', 'Data': 'Full Set Judging vs Prospecting', 'TestError': 1-judgNB[1]}, ignore_index = True)\n",
    "j_avNN_err = (judgNNeval['Error_Rate'][0] + judgNNeval['Error_Rate'][1])/2\n",
    "results_df = results_df.append({'Model': 'NN', 'Data': 'Full Set Judging vs Prospecting', 'TestError': j_avNN_err}, ignore_index = True)"
   ]
  },
  {
   "cell_type": "markdown",
   "metadata": {},
   "source": [
    "## Thinking vs. Feeling\n",
    "using the full dataset"
   ]
  },
  {
   "cell_type": "code",
   "execution_count": 49,
   "metadata": {},
   "outputs": [],
   "source": [
    "thinking_df500 = intuitive_df.sample(500)"
   ]
  },
  {
   "cell_type": "code",
   "execution_count": 50,
   "metadata": {},
   "outputs": [],
   "source": [
    "T_dfTrain, T_dfTest = lucem_illud.trainTestSplit(thinking_df500, holdBackFraction =0.1)"
   ]
  },
  {
   "cell_type": "code",
   "execution_count": 51,
   "metadata": {},
   "outputs": [
    {
     "data": {
      "image/png": "[encoded data removed]",
      "text/plain": [
       "<Figure size 432x288 with 1 Axes>"
      ]
     },
     "metadata": {
      "needs_background": "light"
     },
     "output_type": "display_data"
    }
   ],
   "source": [
    "logit_reg_PCA(T_dfTrain, T_dfTest)"
   ]
  },
  {
   "cell_type": "code",
   "execution_count": 52,
   "metadata": {},
   "outputs": [
    {
     "name": "stdout",
     "output_type": "stream",
     "text": [
      "training error: 0.9644444444444444\n",
      "testing error: 0.62\n"
     ]
    }
   ],
   "source": [
    "thinkNB = naive_bayes(T_dfTrain, T_dfTest)"
   ]
  },
  {
   "cell_type": "code",
   "execution_count": 53,
   "metadata": {},
   "outputs": [
    {
     "data": {
      "image/png": "[encoded data removed]",
      "text/plain": [
       "<Figure size 432x288 with 1 Axes>"
      ]
     },
     "metadata": {
      "needs_background": "light"
     },
     "output_type": "display_data"
    }
   ],
   "source": [
    "thinkNNeval = NeuralNet(T_dfTrain, T_dfTest)"
   ]
  },
  {
   "cell_type": "code",
   "execution_count": 54,
   "metadata": {},
   "outputs": [
    {
     "name": "stdout",
     "output_type": "stream",
     "text": [
      "          Error_Rate       AUC  Precision  Average_Precision    Recall\n",
      "Category                                                              \n",
      "False           0.36  0.484848   0.653061           0.653271  0.969697\n",
      "True            0.36  0.484848   0.000000           0.340000  0.000000\n"
     ]
    }
   ],
   "source": [
    "print(thinkNNeval)"
   ]
  },
  {
   "cell_type": "code",
   "execution_count": 55,
   "metadata": {},
   "outputs": [],
   "source": [
    "results_df = results_df.append({'Model': 'Naive Bayes', 'Data': 'Full Set Thinking vs Feeling', 'TestError': 1-thinkNB[1]}, ignore_index = True)\n",
    "t_avNN_err = (thinkNNeval['Error_Rate'][0] + thinkNNeval['Error_Rate'][1])/2\n",
    "results_df = results_df.append({'Model': 'NN', 'Data': 'Full Set Thinking vs Feeling', 'TestError': t_avNN_err}, ignore_index = True)"
   ]
  },
  {
   "cell_type": "markdown",
   "metadata": {},
   "source": [
    "## Analyst vs. Else\n",
    "using the full dataset"
   ]
  },
  {
   "cell_type": "code",
   "execution_count": 56,
   "metadata": {},
   "outputs": [],
   "source": [
    "analyst_df500 = analyst_df.sample(500)"
   ]
  },
  {
   "cell_type": "code",
   "execution_count": 57,
   "metadata": {},
   "outputs": [],
   "source": [
    "NT_dfTrain, NT_dfTest = lucem_illud.trainTestSplit(analyst_df500, holdBackFraction =0.1)"
   ]
  },
  {
   "cell_type": "code",
   "execution_count": 58,
   "metadata": {},
   "outputs": [
    {
     "data": {
      "image/png": "[encoded data removed]",
      "text/plain": [
       "<Figure size 432x288 with 1 Axes>"
      ]
     },
     "metadata": {
      "needs_background": "light"
     },
     "output_type": "display_data"
    }
   ],
   "source": [
    "logit_reg_PCA(NT_dfTrain, NT_dfTest)"
   ]
  },
  {
   "cell_type": "code",
   "execution_count": 59,
   "metadata": {},
   "outputs": [
    {
     "name": "stdout",
     "output_type": "stream",
     "text": [
      "training error: 0.9511111111111111\n",
      "testing error: 0.66\n"
     ]
    }
   ],
   "source": [
    "anlstNB = naive_bayes(NT_dfTrain, NT_dfTest)"
   ]
  },
  {
   "cell_type": "code",
   "execution_count": 60,
   "metadata": {},
   "outputs": [
    {
     "data": {
      "image/png": "[encoded data removed]",
      "text/plain": [
       "<Figure size 432x288 with 1 Axes>"
      ]
     },
     "metadata": {
      "needs_background": "light"
     },
     "output_type": "display_data"
    }
   ],
   "source": [
    "anlstNNeval = NeuralNet(NT_dfTrain, NT_dfTest)"
   ]
  },
  {
   "cell_type": "code",
   "execution_count": 61,
   "metadata": {},
   "outputs": [
    {
     "name": "stdout",
     "output_type": "stream",
     "text": [
      "          Error_Rate       AUC  Precision  Average_Precision    Recall\n",
      "Category                                                              \n",
      "False           0.32  0.543672   0.680851           0.680219  0.969697\n",
      "True            0.32  0.543672   0.666667           0.378431  0.117647\n"
     ]
    }
   ],
   "source": [
    "print(anlstNNeval)"
   ]
  },
  {
   "cell_type": "code",
   "execution_count": 62,
   "metadata": {},
   "outputs": [],
   "source": [
    "results_df = results_df.append({'Model': 'Naive Bayes', 'Data': 'Full Set Analyst vs Else', 'TestError': 1-anlstNB[1]}, ignore_index = True)\n",
    "anlst_avNN_err = (anlstNNeval['Error_Rate'][0] + anlstNNeval['Error_Rate'][1])/2\n",
    "results_df = results_df.append({'Model': 'NN', 'Data': 'Full Set Analyst vs Else', 'TestError': anlst_avNN_err}, ignore_index = True)"
   ]
  },
  {
   "cell_type": "markdown",
   "metadata": {},
   "source": [
    "## Diplomat vs. Else\n",
    "using the full dataset"
   ]
  },
  {
   "cell_type": "code",
   "execution_count": 63,
   "metadata": {},
   "outputs": [],
   "source": [
    "diplomat_df500 = diplomat_df.sample(500)"
   ]
  },
  {
   "cell_type": "code",
   "execution_count": 64,
   "metadata": {},
   "outputs": [],
   "source": [
    "NF_dfTrain, NF_dfTest = lucem_illud.trainTestSplit(diplomat_df500, holdBackFraction =0.1)"
   ]
  },
  {
   "cell_type": "code",
   "execution_count": 65,
   "metadata": {},
   "outputs": [
    {
     "data": {
      "image/png": "[encoded data removed]",
      "text/plain": [
       "<Figure size 432x288 with 1 Axes>"
      ]
     },
     "metadata": {
      "needs_background": "light"
     },
     "output_type": "display_data"
    }
   ],
   "source": [
    "logit_reg_PCA(NF_dfTrain, NF_dfTest)"
   ]
  },
  {
   "cell_type": "code",
   "execution_count": 66,
   "metadata": {},
   "outputs": [
    {
     "name": "stdout",
     "output_type": "stream",
     "text": [
      "training error: 0.9622222222222222\n",
      "testing error: 0.68\n"
     ]
    }
   ],
   "source": [
    "dipNB = naive_bayes(NF_dfTrain, NF_dfTest)"
   ]
  },
  {
   "cell_type": "code",
   "execution_count": 67,
   "metadata": {},
   "outputs": [
    {
     "data": {
      "image/png": "[encoded data removed]",
      "text/plain": [
       "<Figure size 432x288 with 1 Axes>"
      ]
     },
     "metadata": {
      "needs_background": "light"
     },
     "output_type": "display_data"
    }
   ],
   "source": [
    "dipNNeval = NeuralNet(NF_dfTrain, NF_dfTest)"
   ]
  },
  {
   "cell_type": "code",
   "execution_count": 68,
   "metadata": {},
   "outputs": [
    {
     "name": "stdout",
     "output_type": "stream",
     "text": [
      "          Error_Rate       AUC  Precision  Average_Precision    Recall\n",
      "Category                                                              \n",
      "False           0.32  0.485714   0.693878           0.694052  0.971429\n",
      "True            0.32  0.485714   0.000000           0.300000  0.000000\n"
     ]
    }
   ],
   "source": [
    "print(dipNNeval)"
   ]
  },
  {
   "cell_type": "code",
   "execution_count": 69,
   "metadata": {},
   "outputs": [],
   "source": [
    "results_df = results_df.append({'Model': 'Naive Bayes', 'Data': 'Full Set Diplomat vs Else', 'TestError': 1-dipNB[1]}, ignore_index = True)\n",
    "dip_avNN_err = (dipNNeval['Error_Rate'][0] + dipNNeval['Error_Rate'][1])/2\n",
    "results_df = results_df.append({'Model': 'NN', 'Data': 'Full Set Diplomat vs Else', 'TestError': dip_avNN_err}, ignore_index = True)"
   ]
  },
  {
   "cell_type": "markdown",
   "metadata": {},
   "source": [
    "## Sentinel vs. Else\n",
    "using the full dataset"
   ]
  },
  {
   "cell_type": "code",
   "execution_count": 70,
   "metadata": {},
   "outputs": [],
   "source": [
    "sentinel_df500 = sentinel_df.sample(500)"
   ]
  },
  {
   "cell_type": "code",
   "execution_count": 71,
   "metadata": {},
   "outputs": [],
   "source": [
    "SJ_dfTrain, SJ_dfTest = lucem_illud.trainTestSplit(sentinel_df500, holdBackFraction =0.1)"
   ]
  },
  {
   "cell_type": "code",
   "execution_count": 72,
   "metadata": {},
   "outputs": [
    {
     "data": {
      "image/png": "[encoded data removed]",
      "text/plain": [
       "<Figure size 432x288 with 1 Axes>"
      ]
     },
     "metadata": {
      "needs_background": "light"
     },
     "output_type": "display_data"
    }
   ],
   "source": [
    "logit_reg_PCA(SJ_dfTrain, SJ_dfTest)"
   ]
  },
  {
   "cell_type": "code",
   "execution_count": 73,
   "metadata": {},
   "outputs": [
    {
     "name": "stdout",
     "output_type": "stream",
     "text": [
      "training error: 0.9711111111111111\n",
      "testing error: 0.7\n"
     ]
    }
   ],
   "source": [
    "sentNB = naive_bayes(SJ_dfTrain, SJ_dfTest)"
   ]
  },
  {
   "cell_type": "code",
   "execution_count": 74,
   "metadata": {},
   "outputs": [
    {
     "data": {
      "image/png": "[encoded data removed]",
      "text/plain": [
       "<Figure size 432x288 with 1 Axes>"
      ]
     },
     "metadata": {
      "needs_background": "light"
     },
     "output_type": "display_data"
    }
   ],
   "source": [
    "sentNNeval = NeuralNet(SJ_dfTrain, SJ_dfTest)"
   ]
  },
  {
   "cell_type": "code",
   "execution_count": 75,
   "metadata": {},
   "outputs": [
    {
     "name": "stdout",
     "output_type": "stream",
     "text": [
      "          Error_Rate       AUC  Precision  Average_Precision    Recall\n",
      "Category                                                              \n",
      "False            0.3  0.507937   0.723404           0.723215  0.944444\n",
      "True             0.3  0.507937   0.333333           0.283810  0.071429\n"
     ]
    }
   ],
   "source": [
    "print(sentNNeval)"
   ]
  },
  {
   "cell_type": "code",
   "execution_count": 76,
   "metadata": {},
   "outputs": [],
   "source": [
    "results_df = results_df.append({'Model': 'Naive Bayes', 'Data': 'Full Set Sentinel vs Else', 'TestError': 1-sentNB[1]}, ignore_index = True)\n",
    "sent_avNN_err = (sentNNeval['Error_Rate'][0] + sentNNeval['Error_Rate'][1])/2\n",
    "results_df = results_df.append({'Model': 'NN', 'Data': 'Full Set Sentinel vs Else', 'TestError': sent_avNN_err}, ignore_index = True)"
   ]
  },
  {
   "cell_type": "markdown",
   "metadata": {},
   "source": [
    "## Explorer vs. Else\n",
    "using the full dataset"
   ]
  },
  {
   "cell_type": "code",
   "execution_count": 77,
   "metadata": {},
   "outputs": [],
   "source": [
    "explorer_df500 = explorer_df.sample(500)"
   ]
  },
  {
   "cell_type": "code",
   "execution_count": 78,
   "metadata": {},
   "outputs": [],
   "source": [
    "SP_dfTrain, SP_dfTest = lucem_illud.trainTestSplit(explorer_df500, holdBackFraction =0.1)"
   ]
  },
  {
   "cell_type": "code",
   "execution_count": 79,
   "metadata": {},
   "outputs": [
    {
     "data": {
      "image/png": "[encoded data removed]",
      "text/plain": [
       "<Figure size 432x288 with 1 Axes>"
      ]
     },
     "metadata": {
      "needs_background": "light"
     },
     "output_type": "display_data"
    }
   ],
   "source": [
    "logit_reg_PCA(SP_dfTrain, SP_dfTest)"
   ]
  },
  {
   "cell_type": "code",
   "execution_count": 80,
   "metadata": {},
   "outputs": [
    {
     "name": "stdout",
     "output_type": "stream",
     "text": [
      "training error: 0.9711111111111111\n",
      "testing error: 0.56\n"
     ]
    }
   ],
   "source": [
    "explNB = naive_bayes(SP_dfTrain, SP_dfTest)"
   ]
  },
  {
   "cell_type": "code",
   "execution_count": 81,
   "metadata": {},
   "outputs": [
    {
     "data": {
      "image/png": "[encoded data removed]",
      "text/plain": [
       "<Figure size 432x288 with 1 Axes>"
      ]
     },
     "metadata": {
      "needs_background": "light"
     },
     "output_type": "display_data"
    }
   ],
   "source": [
    "explNNeval = NeuralNet(SP_dfTrain, SP_dfTest)"
   ]
  },
  {
   "cell_type": "code",
   "execution_count": 82,
   "metadata": {},
   "outputs": [
    {
     "name": "stdout",
     "output_type": "stream",
     "text": [
      "          Error_Rate       AUC  Precision  Average_Precision    Recall\n",
      "Category                                                              \n",
      "False           0.46  0.522436   0.531915           0.531457  0.961538\n",
      "True            0.46  0.522436   0.666667           0.495556  0.083333\n"
     ]
    }
   ],
   "source": [
    "print(explNNeval)"
   ]
  },
  {
   "cell_type": "code",
   "execution_count": 83,
   "metadata": {},
   "outputs": [],
   "source": [
    "results_df = results_df.append({'Model': 'Naive Bayes', 'Data': 'Full Set Explorer vs Else', 'TestError': 1-explNB[1]}, ignore_index = True)\n",
    "expl_avNN_err = (explNNeval['Error_Rate'][0] + explNNeval['Error_Rate'][1])/2\n",
    "results_df = results_df.append({'Model': 'NN', 'Data': 'Full Set Explorer vs Else', 'TestError': expl_avNN_err}, ignore_index = True)"
   ]
  },
  {
   "cell_type": "markdown",
   "metadata": {},
   "source": [
    "## Using Subsets to Test Classifications"
   ]
  },
  {
   "cell_type": "code",
   "execution_count": 84,
   "metadata": {},
   "outputs": [],
   "source": [
    "num_obs = 500\n",
    "test_frac = 0.1\n",
    "#500 is both computationally feasible and reasonably representative"
   ]
  },
  {
   "cell_type": "markdown",
   "metadata": {},
   "source": [
    "## Introvert vs. Extravert\n",
    "using subset of dataset (num_obs for each)"
   ]
  },
  {
   "cell_type": "code",
   "execution_count": 86,
   "metadata": {},
   "outputs": [],
   "source": [
    "extravert = 'extravert'"
   ]
  },
  {
   "cell_type": "code",
   "execution_count": 87,
   "metadata": {},
   "outputs": [],
   "source": [
    "int_ext_dfTrain, int_ext_dfTest = sample_combo_df(p_tweetsDF, extravert, 'not', num_obs, test_frac)"
   ]
  },
  {
   "cell_type": "code",
   "execution_count": 88,
   "metadata": {},
   "outputs": [
    {
     "data": {
      "image/png": "[encoded data removed]",
      "text/plain": [
       "<Figure size 432x288 with 1 Axes>"
      ]
     },
     "metadata": {
      "needs_background": "light"
     },
     "output_type": "display_data"
    }
   ],
   "source": [
    "logit_reg_PCA(int_ext_dfTrain, int_ext_dfTest)"
   ]
  },
  {
   "cell_type": "code",
   "execution_count": 89,
   "metadata": {},
   "outputs": [
    {
     "name": "stdout",
     "output_type": "stream",
     "text": [
      "training error: 0.96\n",
      "testing error: 0.57\n"
     ]
    }
   ],
   "source": [
    "intexNB = naive_bayes(int_ext_dfTrain, int_ext_dfTest)"
   ]
  },
  {
   "cell_type": "code",
   "execution_count": 90,
   "metadata": {},
   "outputs": [
    {
     "data": {
      "image/png": "[encoded data removed]",
      "text/plain": [
       "<Figure size 432x288 with 1 Axes>"
      ]
     },
     "metadata": {
      "needs_background": "light"
     },
     "output_type": "display_data"
    }
   ],
   "source": [
    "intexNNeval = NeuralNet(int_ext_dfTrain, int_ext_dfTest)"
   ]
  },
  {
   "cell_type": "code",
   "execution_count": 91,
   "metadata": {},
   "outputs": [
    {
     "name": "stdout",
     "output_type": "stream",
     "text": [
      "          Error_Rate       AUC  Precision  Average_Precision    Recall\n",
      "Category                                                              \n",
      "False            0.4  0.523357   0.602151           0.601533  0.949153\n",
      "True             0.4  0.523357   0.571429           0.425749  0.097561\n"
     ]
    }
   ],
   "source": [
    "print(intexNNeval)"
   ]
  },
  {
   "cell_type": "code",
   "execution_count": 93,
   "metadata": {},
   "outputs": [],
   "source": [
    "results_df = results_df.append({'Model': 'Naive Bayes', 'Data': 'SubSet Introvert vs Extravert', 'TestError': 1-intexNB[1]}, ignore_index = True)\n",
    "intex_avNN_err = (intexNNeval['Error_Rate'][0] + intexNNeval['Error_Rate'][1])/2\n",
    "results_df = results_df.append({'Model': 'NN', 'Data': 'SubSet Introvert vs Extravert', 'TestError': intex_avNN_err}, ignore_index = True)"
   ]
  },
  {
   "cell_type": "markdown",
   "metadata": {},
   "source": [
    "## Intuitive vs. Observant\n",
    "using subset of dataset (num_obs for each)"
   ]
  },
  {
   "cell_type": "code",
   "execution_count": 94,
   "metadata": {},
   "outputs": [],
   "source": [
    "intuitive = 'intuitive'"
   ]
  },
  {
   "cell_type": "code",
   "execution_count": 95,
   "metadata": {},
   "outputs": [],
   "source": [
    "int_obs_dfTrain, int_obs_dfTest = sample_combo_df(p_tweetsDF, intuitive, 'not', num_obs, test_frac)"
   ]
  },
  {
   "cell_type": "code",
   "execution_count": 96,
   "metadata": {},
   "outputs": [
    {
     "data": {
      "image/png": "[encoded data removed]",
      "text/plain": [
       "<Figure size 432x288 with 1 Axes>"
      ]
     },
     "metadata": {
      "needs_background": "light"
     },
     "output_type": "display_data"
    }
   ],
   "source": [
    "logit_reg_PCA(int_obs_dfTrain, int_obs_dfTest)"
   ]
  },
  {
   "cell_type": "code",
   "execution_count": 97,
   "metadata": {},
   "outputs": [
    {
     "name": "stdout",
     "output_type": "stream",
     "text": [
      "training error: 0.9288888888888889\n",
      "testing error: 0.77\n"
     ]
    }
   ],
   "source": [
    "intobsNB = naive_bayes(int_obs_dfTrain, int_obs_dfTest)"
   ]
  },
  {
   "cell_type": "code",
   "execution_count": 98,
   "metadata": {},
   "outputs": [
    {
     "data": {
      "image/png": "[encoded data removed]",
      "text/plain": [
       "<Figure size 432x288 with 1 Axes>"
      ]
     },
     "metadata": {
      "needs_background": "light"
     },
     "output_type": "display_data"
    }
   ],
   "source": [
    "int_obs_NNeval = NeuralNet(int_obs_dfTrain, int_obs_dfTest)"
   ]
  },
  {
   "cell_type": "code",
   "execution_count": 99,
   "metadata": {},
   "outputs": [
    {
     "name": "stdout",
     "output_type": "stream",
     "text": [
      "          Error_Rate      AUC  Precision  Average_Precision    Recall\n",
      "Category                                                             \n",
      "False           0.23  0.49359   0.777778           0.777806  0.987179\n",
      "True            0.23  0.49359   0.000000           0.220000  0.000000\n"
     ]
    }
   ],
   "source": [
    "print(int_obs_NNeval)"
   ]
  },
  {
   "cell_type": "code",
   "execution_count": 100,
   "metadata": {},
   "outputs": [],
   "source": [
    "results_df = results_df.append({'Model': 'Naive Bayes', 'Data': 'SubSet Intuitive vs Observant', 'TestError': 1-intobsNB[1]}, ignore_index = True)\n",
    "intobs_avNN_err = (int_obs_NNeval['Error_Rate'][0] + int_obs_NNeval['Error_Rate'][1])/2\n",
    "results_df = results_df.append({'Model': 'NN', 'Data': 'SubSet Intuitive vs Observant', 'TestError': intobs_avNN_err}, ignore_index = True)"
   ]
  },
  {
   "cell_type": "markdown",
   "metadata": {},
   "source": [
    "## Judging vs. Prospecting\n",
    "using subset of dataset (num_obs for each)"
   ]
  },
  {
   "cell_type": "code",
   "execution_count": 101,
   "metadata": {},
   "outputs": [],
   "source": [
    "judging = 'judging'"
   ]
  },
  {
   "cell_type": "code",
   "execution_count": 102,
   "metadata": {},
   "outputs": [],
   "source": [
    "judg_pros_dfTrain, judg_pros_dfTest = sample_combo_df(p_tweetsDF, judging, 'not', num_obs, test_frac)"
   ]
  },
  {
   "cell_type": "code",
   "execution_count": 103,
   "metadata": {},
   "outputs": [
    {
     "data": {
      "image/png": "[encoded data removed]",
      "text/plain": [
       "<Figure size 432x288 with 1 Axes>"
      ]
     },
     "metadata": {
      "needs_background": "light"
     },
     "output_type": "display_data"
    }
   ],
   "source": [
    "logit_reg_PCA(judg_pros_dfTrain, judg_pros_dfTest)"
   ]
  },
  {
   "cell_type": "code",
   "execution_count": 104,
   "metadata": {},
   "outputs": [
    {
     "name": "stdout",
     "output_type": "stream",
     "text": [
      "training error: 0.97\n",
      "testing error: 0.63\n"
     ]
    }
   ],
   "source": [
    "jug_prosNB = naive_bayes(judg_pros_dfTrain, judg_pros_dfTest)"
   ]
  },
  {
   "cell_type": "code",
   "execution_count": 105,
   "metadata": {},
   "outputs": [
    {
     "data": {
      "image/png": "[encoded data removed]",
      "text/plain": [
       "<Figure size 432x288 with 1 Axes>"
      ]
     },
     "metadata": {
      "needs_background": "light"
     },
     "output_type": "display_data"
    }
   ],
   "source": [
    "judg_pros_NNeval = NeuralNet(judg_pros_dfTrain, judg_pros_dfTest)"
   ]
  },
  {
   "cell_type": "code",
   "execution_count": 106,
   "metadata": {},
   "outputs": [
    {
     "name": "stdout",
     "output_type": "stream",
     "text": [
      "          Error_Rate       AUC  Precision  Average_Precision    Recall\n",
      "Category                                                              \n",
      "False            0.4  0.519546   0.620690           0.619463  0.885246\n",
      "True             0.4  0.519546   0.461538           0.401006  0.153846\n"
     ]
    }
   ],
   "source": [
    "print(judg_pros_NNeval)"
   ]
  },
  {
   "cell_type": "code",
   "execution_count": 107,
   "metadata": {},
   "outputs": [],
   "source": [
    "results_df = results_df.append({'Model': 'Naive Bayes', 'Data': 'SubSet Judging vs Prospecting', 'TestError': 1-jug_prosNB[1]}, ignore_index = True)\n",
    "jug_pros_avNN_err = (judg_pros_NNeval['Error_Rate'][0] + judg_pros_NNeval['Error_Rate'][1])/2\n",
    "results_df = results_df.append({'Model': 'NN', 'Data': 'SubSet Judging vs Prospecting', 'TestError': jug_pros_avNN_err}, ignore_index = True)"
   ]
  },
  {
   "cell_type": "markdown",
   "metadata": {},
   "source": [
    "## Thinking vs. Feeling\n",
    "using subset of dataset (num_obs for each)"
   ]
  },
  {
   "cell_type": "code",
   "execution_count": 108,
   "metadata": {},
   "outputs": [],
   "source": [
    "thinking = 'thinking'"
   ]
  },
  {
   "cell_type": "code",
   "execution_count": 109,
   "metadata": {},
   "outputs": [],
   "source": [
    "thi_feel_dfTrain, thi_feel_dfTest = sample_combo_df(p_tweetsDF, thinking, 'not', num_obs, test_frac)"
   ]
  },
  {
   "cell_type": "code",
   "execution_count": 110,
   "metadata": {},
   "outputs": [
    {
     "data": {
      "image/png": "[encoded data removed]",
      "text/plain": [
       "<Figure size 432x288 with 1 Axes>"
      ]
     },
     "metadata": {
      "needs_background": "light"
     },
     "output_type": "display_data"
    }
   ],
   "source": [
    "logit_reg_PCA(thi_feel_dfTrain, thi_feel_dfTest)"
   ]
  },
  {
   "cell_type": "code",
   "execution_count": 111,
   "metadata": {},
   "outputs": [
    {
     "name": "stdout",
     "output_type": "stream",
     "text": [
      "training error: 0.9666666666666667\n",
      "testing error: 0.67\n"
     ]
    }
   ],
   "source": [
    "think_feelNB = naive_bayes(thi_feel_dfTrain, thi_feel_dfTest)"
   ]
  },
  {
   "cell_type": "code",
   "execution_count": 112,
   "metadata": {},
   "outputs": [
    {
     "data": {
      "image/png": "[encoded data removed]",
      "text/plain": [
       "<Figure size 432x288 with 1 Axes>"
      ]
     },
     "metadata": {
      "needs_background": "light"
     },
     "output_type": "display_data"
    }
   ],
   "source": [
    "thi_feel_NNeval = NeuralNet(thi_feel_dfTrain, thi_feel_dfTest)"
   ]
  },
  {
   "cell_type": "code",
   "execution_count": 113,
   "metadata": {},
   "outputs": [
    {
     "name": "stdout",
     "output_type": "stream",
     "text": [
      "          Error_Rate       AUC  Precision  Average_Precision    Recall\n",
      "Category                                                              \n",
      "False           0.36  0.499109   0.659574           0.659600  0.939394\n",
      "True            0.36  0.499109   0.333333           0.339608  0.058824\n"
     ]
    }
   ],
   "source": [
    "print(thi_feel_NNeval)"
   ]
  },
  {
   "cell_type": "code",
   "execution_count": 114,
   "metadata": {},
   "outputs": [],
   "source": [
    "results_df = results_df.append({'Model': 'Naive Bayes', 'Data': 'SubSet Thinking vs Feeling', 'TestError': 1-think_feelNB[1]}, ignore_index = True)\n",
    "thi_feel_avNN_err = (thi_feel_NNeval['Error_Rate'][0] + thi_feel_NNeval['Error_Rate'][1])/2\n",
    "results_df = results_df.append({'Model': 'NN', 'Data': 'SubSet Thinking vs Feeling', 'TestError': thi_feel_avNN_err}, ignore_index = True)"
   ]
  },
  {
   "cell_type": "markdown",
   "metadata": {},
   "source": [
    "## Exploring direct comparisons between groupings\n",
    "\n",
    "## Analyst vs. Diplomat\n",
    "using subset of dataset (num_obs for each)"
   ]
  },
  {
   "cell_type": "code",
   "execution_count": 115,
   "metadata": {},
   "outputs": [],
   "source": [
    "an_dip_dfTrain, an_dip_dfTest = sample_combo_df(analyst_df, analyst, diplomat, num_obs, test_frac)"
   ]
  },
  {
   "cell_type": "code",
   "execution_count": 116,
   "metadata": {},
   "outputs": [
    {
     "data": {
      "image/png": "[encoded data removed]",
      "text/plain": [
       "<Figure size 432x288 with 1 Axes>"
      ]
     },
     "metadata": {
      "needs_background": "light"
     },
     "output_type": "display_data"
    }
   ],
   "source": [
    "logit_reg_PCA(an_dip_dfTrain, an_dip_dfTest)"
   ]
  },
  {
   "cell_type": "code",
   "execution_count": 117,
   "metadata": {},
   "outputs": [
    {
     "name": "stdout",
     "output_type": "stream",
     "text": [
      "training error: 0.9855555555555555\n",
      "testing error: 0.55\n"
     ]
    }
   ],
   "source": [
    "an_dipNB = naive_bayes(an_dip_dfTrain, an_dip_dfTest)"
   ]
  },
  {
   "cell_type": "code",
   "execution_count": 118,
   "metadata": {},
   "outputs": [
    {
     "data": {
      "image/png": "[encoded data removed]",
      "text/plain": [
       "<Figure size 432x288 with 1 Axes>"
      ]
     },
     "metadata": {
      "needs_background": "light"
     },
     "output_type": "display_data"
    }
   ],
   "source": [
    "an_dip_NNeval = NeuralNet(an_dip_dfTrain, an_dip_dfTest)"
   ]
  },
  {
   "cell_type": "code",
   "execution_count": 119,
   "metadata": {},
   "outputs": [
    {
     "name": "stdout",
     "output_type": "stream",
     "text": [
      "          Error_Rate   AUC  Precision  Average_Precision  Recall\n",
      "Category                                                        \n",
      "False           0.44  0.56   0.555556           0.533333    0.60\n",
      "True            0.44  0.56   0.565217           0.533913    0.52\n"
     ]
    }
   ],
   "source": [
    "print(an_dip_NNeval)"
   ]
  },
  {
   "cell_type": "code",
   "execution_count": 120,
   "metadata": {},
   "outputs": [],
   "source": [
    "results_df = results_df.append({'Model': 'Naive Bayes', 'Data': 'SubSet Analyst vs Diplomat', 'TestError': 1-an_dipNB[1]}, ignore_index = True)\n",
    "an_dipavNN_err = (an_dip_NNeval['Error_Rate'][0] + an_dip_NNeval['Error_Rate'][1])/2\n",
    "results_df = results_df.append({'Model': 'NN', 'Data': 'SubSet Analyst vs Diplomat', 'TestError': an_dipavNN_err}, ignore_index = True)"
   ]
  },
  {
   "cell_type": "markdown",
   "metadata": {},
   "source": [
    "## Analyst vs. Sentinel\n",
    "using subset of dataset (num_obs for each)"
   ]
  },
  {
   "cell_type": "code",
   "execution_count": 121,
   "metadata": {},
   "outputs": [],
   "source": [
    "an_sent_dfTrain, an_sent_dfTest = sample_combo_df(analyst_df, analyst, sentinel, num_obs, test_frac)"
   ]
  },
  {
   "cell_type": "code",
   "execution_count": 122,
   "metadata": {},
   "outputs": [
    {
     "data": {
      "image/png": "[encoded data removed]",
      "text/plain": [
       "<Figure size 432x288 with 1 Axes>"
      ]
     },
     "metadata": {
      "needs_background": "light"
     },
     "output_type": "display_data"
    }
   ],
   "source": [
    "logit_reg_PCA(an_sent_dfTrain, an_sent_dfTest)"
   ]
  },
  {
   "cell_type": "code",
   "execution_count": 123,
   "metadata": {},
   "outputs": [
    {
     "name": "stdout",
     "output_type": "stream",
     "text": [
      "training error: 0.9211111111111111\n",
      "testing error: 0.78\n"
     ]
    }
   ],
   "source": [
    "an_sentNB = naive_bayes(an_sent_dfTrain, an_sent_dfTest)"
   ]
  },
  {
   "cell_type": "code",
   "execution_count": 124,
   "metadata": {},
   "outputs": [
    {
     "data": {
      "image/png": "[encoded data removed]",
      "text/plain": [
       "<Figure size 432x288 with 1 Axes>"
      ]
     },
     "metadata": {
      "needs_background": "light"
     },
     "output_type": "display_data"
    }
   ],
   "source": [
    "an_sent_NNeval = NeuralNet(an_sent_dfTrain, an_sent_dfTest)"
   ]
  },
  {
   "cell_type": "code",
   "execution_count": 125,
   "metadata": {},
   "outputs": [
    {
     "name": "stdout",
     "output_type": "stream",
     "text": [
      "          Error_Rate       AUC  Precision  Average_Precision    Recall\n",
      "Category                                                              \n",
      "False           0.27  0.484266   0.774194           0.774640  0.923077\n",
      "True            0.27  0.484266   0.142857           0.216494  0.045455\n"
     ]
    }
   ],
   "source": [
    "print(an_sent_NNeval)"
   ]
  },
  {
   "cell_type": "code",
   "execution_count": 126,
   "metadata": {},
   "outputs": [],
   "source": [
    "results_df = results_df.append({'Model': 'Naive Bayes', 'Data': 'SubSet Analyst vs Sentinel', 'TestError': 1-an_sentNB[1]}, ignore_index = True)\n",
    "an_sent_avNN_err = (an_sent_NNeval['Error_Rate'][0] + an_sent_NNeval['Error_Rate'][1])/2\n",
    "results_df = results_df.append({'Model': 'NN', 'Data': 'SubSet Analyst vs Sentinel', 'TestError': an_sent_avNN_err}, ignore_index = True)"
   ]
  },
  {
   "cell_type": "markdown",
   "metadata": {},
   "source": [
    "## Analyst vs. Explorer\n",
    "using subset of dataset (num_obs for each)"
   ]
  },
  {
   "cell_type": "code",
   "execution_count": 146,
   "metadata": {},
   "outputs": [],
   "source": [
    "an_expl_dfTrain, an_expl_dfTest = sample_combo_df(analyst_df, analyst, explorer, 350, test_frac)"
   ]
  },
  {
   "cell_type": "markdown",
   "metadata": {},
   "source": [
    "note here: size of samples is different due to an issue in the data representation"
   ]
  },
  {
   "cell_type": "code",
   "execution_count": 150,
   "metadata": {},
   "outputs": [
    {
     "data": {
      "image/png": "[encoded data removed]",
      "text/plain": [
       "<Figure size 432x288 with 1 Axes>"
      ]
     },
     "metadata": {
      "needs_background": "light"
     },
     "output_type": "display_data"
    }
   ],
   "source": [
    "logit_reg_PCA(an_expl_dfTrain, an_expl_dfTest)"
   ]
  },
  {
   "cell_type": "code",
   "execution_count": 151,
   "metadata": {},
   "outputs": [
    {
     "name": "stdout",
     "output_type": "stream",
     "text": [
      "training error: 0.9142857142857143\n",
      "testing error: 0.7857142857142857\n"
     ]
    }
   ],
   "source": [
    "an_explNB = naive_bayes(an_expl_dfTrain, an_expl_dfTest)"
   ]
  },
  {
   "cell_type": "code",
   "execution_count": 152,
   "metadata": {},
   "outputs": [
    {
     "data": {
      "image/png": "[encoded data removed]",
      "text/plain": [
       "<Figure size 432x288 with 1 Axes>"
      ]
     },
     "metadata": {
      "needs_background": "light"
     },
     "output_type": "display_data"
    }
   ],
   "source": [
    "an_expl_NNeval = NeuralNet(an_expl_dfTrain, an_expl_dfTest)"
   ]
  },
  {
   "cell_type": "code",
   "execution_count": 153,
   "metadata": {},
   "outputs": [
    {
     "name": "stdout",
     "output_type": "stream",
     "text": [
      "          Error_Rate       AUC  Precision  Average_Precision    Recall\n",
      "Category                                                              \n",
      "False       0.142857  0.545455   0.855072           0.855072  1.000000\n",
      "True        0.142857  0.545455   1.000000           0.233766  0.090909\n"
     ]
    }
   ],
   "source": [
    "print(an_expl_NNeval)"
   ]
  },
  {
   "cell_type": "code",
   "execution_count": 154,
   "metadata": {},
   "outputs": [],
   "source": [
    "results_df = results_df.append({'Model': 'Naive Bayes', 'Data': 'SubSet Analyst vs Explorer', 'TestError': 1-an_explNB[1]}, ignore_index = True)\n",
    "an_expl_avNN_err = (an_expl_NNeval['Error_Rate'][0] + an_expl_NNeval['Error_Rate'][1])/2\n",
    "results_df = results_df.append({'Model': 'NN', 'Data': 'SubSet Analyst vs Explorer', 'TestError': an_expl_avNN_err}, ignore_index = True)"
   ]
  },
  {
   "cell_type": "markdown",
   "metadata": {},
   "source": [
    "## Diplomat vs. Sentinel\n",
    "using subset of dataset (num_obs for each)"
   ]
  },
  {
   "cell_type": "code",
   "execution_count": 155,
   "metadata": {},
   "outputs": [],
   "source": [
    "dip_sent_dfTrain, dip_sent_dfTest = sample_combo_df(diplomat_df, diplomat, sentinel, num_obs, test_frac)"
   ]
  },
  {
   "cell_type": "code",
   "execution_count": 156,
   "metadata": {},
   "outputs": [
    {
     "data": {
      "image/png": "[encoded data removed]",
      "text/plain": [
       "<Figure size 432x288 with 1 Axes>"
      ]
     },
     "metadata": {
      "needs_background": "light"
     },
     "output_type": "display_data"
    }
   ],
   "source": [
    "logit_reg_PCA(dip_sent_dfTrain, dip_sent_dfTest)"
   ]
  },
  {
   "cell_type": "code",
   "execution_count": 157,
   "metadata": {},
   "outputs": [
    {
     "name": "stdout",
     "output_type": "stream",
     "text": [
      "training error: 0.9522222222222222\n",
      "testing error: 0.74\n"
     ]
    }
   ],
   "source": [
    "dip_sentNB = naive_bayes(dip_sent_dfTrain, dip_sent_dfTest)"
   ]
  },
  {
   "cell_type": "code",
   "execution_count": 158,
   "metadata": {},
   "outputs": [
    {
     "data": {
      "image/png": "[encoded data removed]",
      "text/plain": [
       "<Figure size 432x288 with 1 Axes>"
      ]
     },
     "metadata": {
      "needs_background": "light"
     },
     "output_type": "display_data"
    }
   ],
   "source": [
    "dip_sent_NNeval = NeuralNet(dip_sent_dfTrain, dip_sent_dfTest)"
   ]
  },
  {
   "cell_type": "code",
   "execution_count": 159,
   "metadata": {},
   "outputs": [
    {
     "name": "stdout",
     "output_type": "stream",
     "text": [
      "          Error_Rate       AUC  Precision  Average_Precision    Recall\n",
      "Category                                                              \n",
      "False           0.27  0.486667   0.744898           0.745034  0.973333\n",
      "True            0.27  0.486667   0.000000           0.250000  0.000000\n"
     ]
    }
   ],
   "source": [
    "print(dip_sent_NNeval)"
   ]
  },
  {
   "cell_type": "code",
   "execution_count": 160,
   "metadata": {},
   "outputs": [],
   "source": [
    "results_df = results_df.append({'Model': 'Naive Bayes', 'Data': 'SubSet Diplomat vs Sentinel', 'TestError': 1-dip_sentNB[1]}, ignore_index = True)\n",
    "dip_sent_avNN_err = (dip_sent_NNeval['Error_Rate'][0] + dip_sent_NNeval['Error_Rate'][1])/2\n",
    "results_df = results_df.append({'Model': 'NN', 'Data': 'SubSet Diplomat vs Sentinel', 'TestError': dip_sent_avNN_err}, ignore_index = True)"
   ]
  },
  {
   "cell_type": "markdown",
   "metadata": {},
   "source": [
    "## Diplomat vs. Explorer\n",
    "using subset of dataset (num_obs for each)"
   ]
  },
  {
   "cell_type": "code",
   "execution_count": 175,
   "metadata": {},
   "outputs": [],
   "source": [
    "dip_expl_dfTrain, dip_expl_dfTest = sample_combo_df(diplomat_df, diplomat, explorer, 350, test_frac)"
   ]
  },
  {
   "cell_type": "code",
   "execution_count": 176,
   "metadata": {},
   "outputs": [
    {
     "data": {
      "image/png": "[encoded data removed]",
      "text/plain": [
       "<Figure size 432x288 with 1 Axes>"
      ]
     },
     "metadata": {
      "needs_background": "light"
     },
     "output_type": "display_data"
    }
   ],
   "source": [
    "logit_reg_PCA(dip_expl_dfTrain, dip_expl_dfTest)"
   ]
  },
  {
   "cell_type": "code",
   "execution_count": 177,
   "metadata": {},
   "outputs": [
    {
     "name": "stdout",
     "output_type": "stream",
     "text": [
      "training error: 0.9285714285714286\n",
      "testing error: 0.7428571428571429\n"
     ]
    }
   ],
   "source": [
    "dip_explNB = naive_bayes(dip_expl_dfTrain, dip_expl_dfTest)"
   ]
  },
  {
   "cell_type": "code",
   "execution_count": 178,
   "metadata": {},
   "outputs": [
    {
     "data": {
      "image/png": "[encoded data removed]",
      "text/plain": [
       "<Figure size 432x288 with 1 Axes>"
      ]
     },
     "metadata": {
      "needs_background": "light"
     },
     "output_type": "display_data"
    }
   ],
   "source": [
    "dip_expl_NNeval = NeuralNet(dip_expl_dfTrain, dip_expl_dfTest)"
   ]
  },
  {
   "cell_type": "code",
   "execution_count": 179,
   "metadata": {},
   "outputs": [
    {
     "name": "stdout",
     "output_type": "stream",
     "text": [
      "          Error_Rate       AUC  Precision  Average_Precision    Recall\n",
      "Category                                                              \n",
      "False       0.257143  0.490566   0.753623           0.753690  0.981132\n",
      "True        0.257143  0.490566   0.000000           0.242857  0.000000\n"
     ]
    }
   ],
   "source": [
    "print(dip_expl_NNeval)"
   ]
  },
  {
   "cell_type": "code",
   "execution_count": 167,
   "metadata": {},
   "outputs": [],
   "source": [
    "results_df = results_df.append({'Model': 'Naive Bayes', 'Data': 'SubSet Diplomat vs Explorer', 'TestError': 1-dip_explNB[1]}, ignore_index = True)\n",
    "dip_expl_avNN_err = (dip_expl_NNeval['Error_Rate'][0] + dip_expl_NNeval['Error_Rate'][1])/2\n",
    "results_df = results_df.append({'Model': 'NN', 'Data': 'SubSet Diplomat vs Explorer', 'TestError': dip_expl_avNN_err}, ignore_index = True)"
   ]
  },
  {
   "cell_type": "markdown",
   "metadata": {},
   "source": [
    "## Sentinel vs. Explorer\n",
    "using subset of dataset (num_obs for each)"
   ]
  },
  {
   "cell_type": "code",
   "execution_count": 183,
   "metadata": {},
   "outputs": [],
   "source": [
    "sent_expl_dfTrain, sent_expl_dfTest = sample_combo_df(sentinel_df, sentinel, explorer, 350, test_frac)"
   ]
  },
  {
   "cell_type": "code",
   "execution_count": 186,
   "metadata": {},
   "outputs": [
    {
     "data": {
      "text/html": [
       "<div>\n",
       "<style scoped>\n",
       "    .dataframe tbody tr th:only-of-type {\n",
       "        vertical-align: middle;\n",
       "    }\n",
       "\n",
       "    .dataframe tbody tr th {\n",
       "        vertical-align: top;\n",
       "    }\n",
       "\n",
       "    .dataframe thead th {\n",
       "        text-align: right;\n",
       "    }\n",
       "</style>\n",
       "<table border=\"1\" class=\"dataframe\">\n",
       "  <thead>\n",
       "    <tr style=\"text-align: right;\">\n",
       "      <th></th>\n",
       "      <th>Unnamed: 0</th>\n",
       "      <th>Unnamed: 0.1</th>\n",
       "      <th>liked_by</th>\n",
       "      <th>text</th>\n",
       "      <th>type</th>\n",
       "      <th>extravert</th>\n",
       "      <th>intuitive</th>\n",
       "      <th>thinking</th>\n",
       "      <th>judging</th>\n",
       "      <th>NT</th>\n",
       "      <th>...</th>\n",
       "      <th>ST</th>\n",
       "      <th>NJ</th>\n",
       "      <th>NP</th>\n",
       "      <th>SJ</th>\n",
       "      <th>SP</th>\n",
       "      <th>foreign_frac</th>\n",
       "      <th>clean_text</th>\n",
       "      <th>tokenized_text</th>\n",
       "      <th>normalized_text</th>\n",
       "      <th>category</th>\n",
       "    </tr>\n",
       "  </thead>\n",
       "  <tbody>\n",
       "    <tr>\n",
       "      <th>0</th>\n",
       "      <td>0</td>\n",
       "      <td>0</td>\n",
       "      <td>1271680686576058368</td>\n",
       "      <td>just found out someone confessed /r feelings t...</td>\n",
       "      <td>ESTP</td>\n",
       "      <td>1</td>\n",
       "      <td>0</td>\n",
       "      <td>1</td>\n",
       "      <td>0</td>\n",
       "      <td>0</td>\n",
       "      <td>...</td>\n",
       "      <td>1</td>\n",
       "      <td>0</td>\n",
       "      <td>0</td>\n",
       "      <td>0</td>\n",
       "      <td>1</td>\n",
       "      <td>0.3094</td>\n",
       "      <td>just found out someone confessed /r feelings t...</td>\n",
       "      <td>['just', 'found', 'out', 'someone', 'confessed...</td>\n",
       "      <td>['find', 'confess', '/r', 'feeling', 'oliver',...</td>\n",
       "      <td>False</td>\n",
       "    </tr>\n",
       "    <tr>\n",
       "      <th>1</th>\n",
       "      <td>1</td>\n",
       "      <td>1</td>\n",
       "      <td>14283777</td>\n",
       "      <td>Wait. Who called him the “Italian Stallion”???...</td>\n",
       "      <td>ESTP</td>\n",
       "      <td>1</td>\n",
       "      <td>0</td>\n",
       "      <td>1</td>\n",
       "      <td>0</td>\n",
       "      <td>0</td>\n",
       "      <td>...</td>\n",
       "      <td>1</td>\n",
       "      <td>0</td>\n",
       "      <td>0</td>\n",
       "      <td>0</td>\n",
       "      <td>1</td>\n",
       "      <td>0.2267</td>\n",
       "      <td>Wait. Who called him the “Italian Stallion”???...</td>\n",
       "      <td>['Wait', 'Who', 'called', 'him', 'the', 'Itali...</td>\n",
       "      <td>['wait', 'call', 'italian', 'stallion', 'grate...</td>\n",
       "      <td>False</td>\n",
       "    </tr>\n",
       "    <tr>\n",
       "      <th>2</th>\n",
       "      <td>2</td>\n",
       "      <td>5</td>\n",
       "      <td>956641603384377346</td>\n",
       "      <td>\"This is like two of my Uncles fighting at the...</td>\n",
       "      <td>ESTP</td>\n",
       "      <td>1</td>\n",
       "      <td>0</td>\n",
       "      <td>1</td>\n",
       "      <td>0</td>\n",
       "      <td>0</td>\n",
       "      <td>...</td>\n",
       "      <td>1</td>\n",
       "      <td>0</td>\n",
       "      <td>0</td>\n",
       "      <td>0</td>\n",
       "      <td>1</td>\n",
       "      <td>0.2888</td>\n",
       "      <td>\"This is like two of my Uncles fighting at the...</td>\n",
       "      <td>['This', 'is', 'like', 'two', 'of', 'my', 'Unc...</td>\n",
       "      <td>['like', 'uncle', 'fight', 'bbq', 'tysonvsjone...</td>\n",
       "      <td>False</td>\n",
       "    </tr>\n",
       "    <tr>\n",
       "      <th>3</th>\n",
       "      <td>3</td>\n",
       "      <td>6</td>\n",
       "      <td>975396348504821766</td>\n",
       "      <td>ur welcome https://t.co/e2KF57KLxbI'm losing m...</td>\n",
       "      <td>ESTP</td>\n",
       "      <td>1</td>\n",
       "      <td>0</td>\n",
       "      <td>1</td>\n",
       "      <td>0</td>\n",
       "      <td>0</td>\n",
       "      <td>...</td>\n",
       "      <td>1</td>\n",
       "      <td>0</td>\n",
       "      <td>0</td>\n",
       "      <td>0</td>\n",
       "      <td>1</td>\n",
       "      <td>0.3575</td>\n",
       "      <td>ur welcome losing my fucking mind : mfs with c...</td>\n",
       "      <td>['ur', 'welcome', 'losing', 'my', 'fucking', '...</td>\n",
       "      <td>['ur', 'welcome', 'lose', 'fuck', 'mind', 'mfs...</td>\n",
       "      <td>False</td>\n",
       "    </tr>\n",
       "    <tr>\n",
       "      <th>4</th>\n",
       "      <td>4</td>\n",
       "      <td>7</td>\n",
       "      <td>1053019674600976385</td>\n",
       "      <td>https://t.co/DFf1NhbRq5If You’re Too Shy (Let ...</td>\n",
       "      <td>ESTP</td>\n",
       "      <td>1</td>\n",
       "      <td>0</td>\n",
       "      <td>1</td>\n",
       "      <td>0</td>\n",
       "      <td>0</td>\n",
       "      <td>...</td>\n",
       "      <td>1</td>\n",
       "      <td>0</td>\n",
       "      <td>0</td>\n",
       "      <td>0</td>\n",
       "      <td>1</td>\n",
       "      <td>0.4863</td>\n",
       "      <td>You’re Too Shy (Let Me Know) by The 1975 2017 ...</td>\n",
       "      <td>['You', '’re', 'Too', 'Shy', 'Let', 'Me', 'Kno...</td>\n",
       "      <td>['shy', 'let', 'know', 'kiss', 'long', 'eye', ...</td>\n",
       "      <td>False</td>\n",
       "    </tr>\n",
       "  </tbody>\n",
       "</table>\n",
       "<p>5 rows × 22 columns</p>\n",
       "</div>"
      ],
      "text/plain": [
       "   Unnamed: 0  Unnamed: 0.1             liked_by  \\\n",
       "0           0             0  1271680686576058368   \n",
       "1           1             1             14283777   \n",
       "2           2             5   956641603384377346   \n",
       "3           3             6   975396348504821766   \n",
       "4           4             7  1053019674600976385   \n",
       "\n",
       "                                                text  type  extravert  \\\n",
       "0  just found out someone confessed /r feelings t...  ESTP          1   \n",
       "1  Wait. Who called him the “Italian Stallion”???...  ESTP          1   \n",
       "2  \"This is like two of my Uncles fighting at the...  ESTP          1   \n",
       "3  ur welcome https://t.co/e2KF57KLxbI'm losing m...  ESTP          1   \n",
       "4  https://t.co/DFf1NhbRq5If You’re Too Shy (Let ...  ESTP          1   \n",
       "\n",
       "   intuitive  thinking  judging  NT  ...  ST  NJ  NP  SJ  SP  foreign_frac  \\\n",
       "0          0         1        0   0  ...   1   0   0   0   1        0.3094   \n",
       "1          0         1        0   0  ...   1   0   0   0   1        0.2267   \n",
       "2          0         1        0   0  ...   1   0   0   0   1        0.2888   \n",
       "3          0         1        0   0  ...   1   0   0   0   1        0.3575   \n",
       "4          0         1        0   0  ...   1   0   0   0   1        0.4863   \n",
       "\n",
       "                                          clean_text  \\\n",
       "0  just found out someone confessed /r feelings t...   \n",
       "1  Wait. Who called him the “Italian Stallion”???...   \n",
       "2  \"This is like two of my Uncles fighting at the...   \n",
       "3  ur welcome losing my fucking mind : mfs with c...   \n",
       "4  You’re Too Shy (Let Me Know) by The 1975 2017 ...   \n",
       "\n",
       "                                      tokenized_text  \\\n",
       "0  ['just', 'found', 'out', 'someone', 'confessed...   \n",
       "1  ['Wait', 'Who', 'called', 'him', 'the', 'Itali...   \n",
       "2  ['This', 'is', 'like', 'two', 'of', 'my', 'Unc...   \n",
       "3  ['ur', 'welcome', 'losing', 'my', 'fucking', '...   \n",
       "4  ['You', '’re', 'Too', 'Shy', 'Let', 'Me', 'Kno...   \n",
       "\n",
       "                                     normalized_text category  \n",
       "0  ['find', 'confess', '/r', 'feeling', 'oliver',...    False  \n",
       "1  ['wait', 'call', 'italian', 'stallion', 'grate...    False  \n",
       "2  ['like', 'uncle', 'fight', 'bbq', 'tysonvsjone...    False  \n",
       "3  ['ur', 'welcome', 'lose', 'fuck', 'mind', 'mfs...    False  \n",
       "4  ['shy', 'let', 'know', 'kiss', 'long', 'eye', ...    False  \n",
       "\n",
       "[5 rows x 22 columns]"
      ]
     },
     "execution_count": 186,
     "metadata": {},
     "output_type": "execute_result"
    }
   ],
   "source": [
    "#logit_reg_PCA(sent_expl_dfTrain, sent_expl_dfTest)\n",
    "sentinel_df.head()"
   ]
  },
  {
   "cell_type": "code",
   "execution_count": 185,
   "metadata": {},
   "outputs": [
    {
     "ename": "KeyError",
     "evalue": "'vect'",
     "output_type": "error",
     "traceback": [
      "\u001b[0;31m---------------------------------------------------------------------------\u001b[0m",
      "\u001b[0;31mKeyError\u001b[0m                                  Traceback (most recent call last)",
      "\u001b[0;32m/opt/anaconda3/lib/python3.8/site-packages/pandas/core/indexes/base.py\u001b[0m in \u001b[0;36mget_loc\u001b[0;34m(self, key, method, tolerance)\u001b[0m\n\u001b[1;32m   2894\u001b[0m             \u001b[0;32mtry\u001b[0m\u001b[0;34m:\u001b[0m\u001b[0;34m\u001b[0m\u001b[0;34m\u001b[0m\u001b[0m\n\u001b[0;32m-> 2895\u001b[0;31m                 \u001b[0;32mreturn\u001b[0m \u001b[0mself\u001b[0m\u001b[0;34m.\u001b[0m\u001b[0m_engine\u001b[0m\u001b[0;34m.\u001b[0m\u001b[0mget_loc\u001b[0m\u001b[0;34m(\u001b[0m\u001b[0mcasted_key\u001b[0m\u001b[0;34m)\u001b[0m\u001b[0;34m\u001b[0m\u001b[0;34m\u001b[0m\u001b[0m\n\u001b[0m\u001b[1;32m   2896\u001b[0m             \u001b[0;32mexcept\u001b[0m \u001b[0mKeyError\u001b[0m \u001b[0;32mas\u001b[0m \u001b[0merr\u001b[0m\u001b[0;34m:\u001b[0m\u001b[0;34m\u001b[0m\u001b[0;34m\u001b[0m\u001b[0m\n",
      "\u001b[0;32mpandas/_libs/index.pyx\u001b[0m in \u001b[0;36mpandas._libs.index.IndexEngine.get_loc\u001b[0;34m()\u001b[0m\n",
      "\u001b[0;32mpandas/_libs/index.pyx\u001b[0m in \u001b[0;36mpandas._libs.index.IndexEngine.get_loc\u001b[0;34m()\u001b[0m\n",
      "\u001b[0;32mpandas/_libs/hashtable_class_helper.pxi\u001b[0m in \u001b[0;36mpandas._libs.hashtable.PyObjectHashTable.get_item\u001b[0;34m()\u001b[0m\n",
      "\u001b[0;32mpandas/_libs/hashtable_class_helper.pxi\u001b[0m in \u001b[0;36mpandas._libs.hashtable.PyObjectHashTable.get_item\u001b[0;34m()\u001b[0m\n",
      "\u001b[0;31mKeyError\u001b[0m: 'vect'",
      "\nThe above exception was the direct cause of the following exception:\n",
      "\u001b[0;31mKeyError\u001b[0m                                  Traceback (most recent call last)",
      "\u001b[0;32m<ipython-input-185-fb10bd10577e>\u001b[0m in \u001b[0;36m<module>\u001b[0;34m\u001b[0m\n\u001b[0;32m----> 1\u001b[0;31m \u001b[0msent_explNB\u001b[0m\u001b[0;34m=\u001b[0m \u001b[0mnaive_bayes\u001b[0m\u001b[0;34m(\u001b[0m\u001b[0msent_expl_dfTrain\u001b[0m\u001b[0;34m,\u001b[0m \u001b[0msent_expl_dfTest\u001b[0m\u001b[0;34m)\u001b[0m\u001b[0;34m\u001b[0m\u001b[0;34m\u001b[0m\u001b[0m\n\u001b[0m",
      "\u001b[0;32m<ipython-input-15-8ce43b39ea13>\u001b[0m in \u001b[0;36mnaive_bayes\u001b[0;34m(train_df, test_df)\u001b[0m\n\u001b[1;32m      3\u001b[0m \u001b[0;34m\u001b[0m\u001b[0m\n\u001b[1;32m      4\u001b[0m     \u001b[0mnaiveBayes\u001b[0m \u001b[0;34m=\u001b[0m \u001b[0msklearn\u001b[0m\u001b[0;34m.\u001b[0m\u001b[0mnaive_bayes\u001b[0m\u001b[0;34m.\u001b[0m\u001b[0mBernoulliNB\u001b[0m\u001b[0;34m(\u001b[0m\u001b[0;34m)\u001b[0m\u001b[0;34m\u001b[0m\u001b[0;34m\u001b[0m\u001b[0m\n\u001b[0;32m----> 5\u001b[0;31m     \u001b[0mnaiveBayes\u001b[0m\u001b[0;34m.\u001b[0m\u001b[0mfit\u001b[0m\u001b[0;34m(\u001b[0m\u001b[0mnp\u001b[0m\u001b[0;34m.\u001b[0m\u001b[0mstack\u001b[0m\u001b[0;34m(\u001b[0m\u001b[0mtrain_df\u001b[0m\u001b[0;34m[\u001b[0m\u001b[0;34m'vect'\u001b[0m\u001b[0;34m]\u001b[0m\u001b[0;34m,\u001b[0m \u001b[0maxis\u001b[0m\u001b[0;34m=\u001b[0m\u001b[0;36m0\u001b[0m\u001b[0;34m)\u001b[0m\u001b[0;34m,\u001b[0m \u001b[0mtrain_df\u001b[0m\u001b[0;34m[\u001b[0m\u001b[0;34m'category'\u001b[0m\u001b[0;34m]\u001b[0m\u001b[0;34m)\u001b[0m\u001b[0;34m\u001b[0m\u001b[0;34m\u001b[0m\u001b[0m\n\u001b[0m\u001b[1;32m      6\u001b[0m     \u001b[0mtraining_err\u001b[0m \u001b[0;34m=\u001b[0m \u001b[0mnaiveBayes\u001b[0m\u001b[0;34m.\u001b[0m\u001b[0mscore\u001b[0m\u001b[0;34m(\u001b[0m\u001b[0mnp\u001b[0m\u001b[0;34m.\u001b[0m\u001b[0mstack\u001b[0m\u001b[0;34m(\u001b[0m\u001b[0mtrain_df\u001b[0m\u001b[0;34m[\u001b[0m\u001b[0;34m'vect'\u001b[0m\u001b[0;34m]\u001b[0m\u001b[0;34m,\u001b[0m \u001b[0maxis\u001b[0m\u001b[0;34m=\u001b[0m\u001b[0;36m0\u001b[0m\u001b[0;34m)\u001b[0m\u001b[0;34m,\u001b[0m \u001b[0mtrain_df\u001b[0m\u001b[0;34m[\u001b[0m\u001b[0;34m'category'\u001b[0m\u001b[0;34m]\u001b[0m\u001b[0;34m)\u001b[0m\u001b[0;34m\u001b[0m\u001b[0;34m\u001b[0m\u001b[0m\n\u001b[1;32m      7\u001b[0m     \u001b[0mtesting_err\u001b[0m \u001b[0;34m=\u001b[0m \u001b[0mnaiveBayes\u001b[0m\u001b[0;34m.\u001b[0m\u001b[0mscore\u001b[0m\u001b[0;34m(\u001b[0m\u001b[0mnp\u001b[0m\u001b[0;34m.\u001b[0m\u001b[0mstack\u001b[0m\u001b[0;34m(\u001b[0m\u001b[0mtest_df\u001b[0m\u001b[0;34m[\u001b[0m\u001b[0;34m'vect'\u001b[0m\u001b[0;34m]\u001b[0m\u001b[0;34m,\u001b[0m \u001b[0maxis\u001b[0m\u001b[0;34m=\u001b[0m\u001b[0;36m0\u001b[0m\u001b[0;34m)\u001b[0m\u001b[0;34m,\u001b[0m \u001b[0mtest_df\u001b[0m\u001b[0;34m[\u001b[0m\u001b[0;34m'category'\u001b[0m\u001b[0;34m]\u001b[0m\u001b[0;34m)\u001b[0m\u001b[0;34m\u001b[0m\u001b[0;34m\u001b[0m\u001b[0m\n",
      "\u001b[0;32m/opt/anaconda3/lib/python3.8/site-packages/pandas/core/frame.py\u001b[0m in \u001b[0;36m__getitem__\u001b[0;34m(self, key)\u001b[0m\n\u001b[1;32m   2900\u001b[0m             \u001b[0;32mif\u001b[0m \u001b[0mself\u001b[0m\u001b[0;34m.\u001b[0m\u001b[0mcolumns\u001b[0m\u001b[0;34m.\u001b[0m\u001b[0mnlevels\u001b[0m \u001b[0;34m>\u001b[0m \u001b[0;36m1\u001b[0m\u001b[0;34m:\u001b[0m\u001b[0;34m\u001b[0m\u001b[0;34m\u001b[0m\u001b[0m\n\u001b[1;32m   2901\u001b[0m                 \u001b[0;32mreturn\u001b[0m \u001b[0mself\u001b[0m\u001b[0;34m.\u001b[0m\u001b[0m_getitem_multilevel\u001b[0m\u001b[0;34m(\u001b[0m\u001b[0mkey\u001b[0m\u001b[0;34m)\u001b[0m\u001b[0;34m\u001b[0m\u001b[0;34m\u001b[0m\u001b[0m\n\u001b[0;32m-> 2902\u001b[0;31m             \u001b[0mindexer\u001b[0m \u001b[0;34m=\u001b[0m \u001b[0mself\u001b[0m\u001b[0;34m.\u001b[0m\u001b[0mcolumns\u001b[0m\u001b[0;34m.\u001b[0m\u001b[0mget_loc\u001b[0m\u001b[0;34m(\u001b[0m\u001b[0mkey\u001b[0m\u001b[0;34m)\u001b[0m\u001b[0;34m\u001b[0m\u001b[0;34m\u001b[0m\u001b[0m\n\u001b[0m\u001b[1;32m   2903\u001b[0m             \u001b[0;32mif\u001b[0m \u001b[0mis_integer\u001b[0m\u001b[0;34m(\u001b[0m\u001b[0mindexer\u001b[0m\u001b[0;34m)\u001b[0m\u001b[0;34m:\u001b[0m\u001b[0;34m\u001b[0m\u001b[0;34m\u001b[0m\u001b[0m\n\u001b[1;32m   2904\u001b[0m                 \u001b[0mindexer\u001b[0m \u001b[0;34m=\u001b[0m \u001b[0;34m[\u001b[0m\u001b[0mindexer\u001b[0m\u001b[0;34m]\u001b[0m\u001b[0;34m\u001b[0m\u001b[0;34m\u001b[0m\u001b[0m\n",
      "\u001b[0;32m/opt/anaconda3/lib/python3.8/site-packages/pandas/core/indexes/base.py\u001b[0m in \u001b[0;36mget_loc\u001b[0;34m(self, key, method, tolerance)\u001b[0m\n\u001b[1;32m   2895\u001b[0m                 \u001b[0;32mreturn\u001b[0m \u001b[0mself\u001b[0m\u001b[0;34m.\u001b[0m\u001b[0m_engine\u001b[0m\u001b[0;34m.\u001b[0m\u001b[0mget_loc\u001b[0m\u001b[0;34m(\u001b[0m\u001b[0mcasted_key\u001b[0m\u001b[0;34m)\u001b[0m\u001b[0;34m\u001b[0m\u001b[0;34m\u001b[0m\u001b[0m\n\u001b[1;32m   2896\u001b[0m             \u001b[0;32mexcept\u001b[0m \u001b[0mKeyError\u001b[0m \u001b[0;32mas\u001b[0m \u001b[0merr\u001b[0m\u001b[0;34m:\u001b[0m\u001b[0;34m\u001b[0m\u001b[0;34m\u001b[0m\u001b[0m\n\u001b[0;32m-> 2897\u001b[0;31m                 \u001b[0;32mraise\u001b[0m \u001b[0mKeyError\u001b[0m\u001b[0;34m(\u001b[0m\u001b[0mkey\u001b[0m\u001b[0;34m)\u001b[0m \u001b[0;32mfrom\u001b[0m \u001b[0merr\u001b[0m\u001b[0;34m\u001b[0m\u001b[0;34m\u001b[0m\u001b[0m\n\u001b[0m\u001b[1;32m   2898\u001b[0m \u001b[0;34m\u001b[0m\u001b[0m\n\u001b[1;32m   2899\u001b[0m         \u001b[0;32mif\u001b[0m \u001b[0mtolerance\u001b[0m \u001b[0;32mis\u001b[0m \u001b[0;32mnot\u001b[0m \u001b[0;32mNone\u001b[0m\u001b[0;34m:\u001b[0m\u001b[0;34m\u001b[0m\u001b[0;34m\u001b[0m\u001b[0m\n",
      "\u001b[0;31mKeyError\u001b[0m: 'vect'"
     ]
    }
   ],
   "source": [
    "sent_explNB= naive_bayes(sent_expl_dfTrain, sent_expl_dfTest)"
   ]
  },
  {
   "cell_type": "code",
   "execution_count": null,
   "metadata": {},
   "outputs": [],
   "source": [
    "sent_expl_NNeval = NeuralNet(sent_expl_dfTrain, sent_expl_dfTest)"
   ]
  },
  {
   "cell_type": "code",
   "execution_count": null,
   "metadata": {},
   "outputs": [],
   "source": [
    "print(sent_expl_NNeval)"
   ]
  },
  {
   "cell_type": "code",
   "execution_count": null,
   "metadata": {},
   "outputs": [],
   "source": [
    "results_df = results_df.append({'Model': 'Naive Bayes', 'Data': 'SubSet Sentinel vs Explorer', 'TestError': 1-sent_explNB[1]}, ignore_index = True)\n",
    "sent_expl_avNN_err = (sent_expl_NNeval['Error_Rate'][0] + sent_expl_NNeval['Error_Rate'][1])/2\n",
    "results_df = results_df.append({'Model': 'NN', 'Data': 'SubSet Sentinel vs Explorer', 'TestError': sent_expl_avNN_err}, ignore_index = True)"
   ]
  },
  {
   "cell_type": "markdown",
   "metadata": {},
   "source": [
    "## Exploring additional personality pairings:\n",
    "\n",
    "## Observant and Feeling (SF)\n",
    "using the full dataset"
   ]
  },
  {
   "cell_type": "code",
   "execution_count": 187,
   "metadata": {},
   "outputs": [],
   "source": [
    "SF_df500 = SF_df.sample(500)"
   ]
  },
  {
   "cell_type": "code",
   "execution_count": 188,
   "metadata": {},
   "outputs": [],
   "source": [
    "obs_feel_dfTrain, obs_feel_dfTest = lucem_illud.trainTestSplit(SF_df500, holdBackFraction =0.1)"
   ]
  },
  {
   "cell_type": "code",
   "execution_count": 189,
   "metadata": {},
   "outputs": [
    {
     "data": {
      "image/png": "[encoded data removed]",
      "text/plain": [
       "<Figure size 432x288 with 1 Axes>"
      ]
     },
     "metadata": {
      "needs_background": "light"
     },
     "output_type": "display_data"
    }
   ],
   "source": [
    "logit_reg_PCA(obs_feel_dfTrain, obs_feel_dfTest)"
   ]
  },
  {
   "cell_type": "code",
   "execution_count": 190,
   "metadata": {},
   "outputs": [
    {
     "name": "stdout",
     "output_type": "stream",
     "text": [
      "training error: 0.9711111111111111\n",
      "testing error: 0.58\n"
     ]
    }
   ],
   "source": [
    "obs_feelNB = naive_bayes(obs_feel_dfTrain, obs_feel_dfTest)"
   ]
  },
  {
   "cell_type": "code",
   "execution_count": 191,
   "metadata": {},
   "outputs": [
    {
     "data": {
      "image/png": "[encoded data removed]",
      "text/plain": [
       "<Figure size 432x288 with 1 Axes>"
      ]
     },
     "metadata": {
      "needs_background": "light"
     },
     "output_type": "display_data"
    }
   ],
   "source": [
    "obs_feel_NNeval = NeuralNet(obs_feel_dfTrain, obs_feel_dfTest)"
   ]
  },
  {
   "cell_type": "code",
   "execution_count": 192,
   "metadata": {},
   "outputs": [
    {
     "name": "stdout",
     "output_type": "stream",
     "text": [
      "          Error_Rate  AUC  Precision  Average_Precision  Recall\n",
      "Category                                                       \n",
      "False           0.42  0.5        0.6                0.6     0.9\n",
      "True            0.42  0.5        0.4                0.4     0.1\n"
     ]
    }
   ],
   "source": [
    "print(obs_feel_NNeval)"
   ]
  },
  {
   "cell_type": "code",
   "execution_count": 193,
   "metadata": {},
   "outputs": [],
   "source": [
    "results_df = results_df.append({'Model': 'Naive Bayes', 'Data': 'Full Set Observant and Feeling vs Else', 'TestError': 1-obs_feelNB[1]}, ignore_index = True)\n",
    "obs_feel_avNN_err = (obs_feel_NNeval['Error_Rate'][0] + obs_feel_NNeval['Error_Rate'][1])/2\n",
    "results_df = results_df.append({'Model': 'NN', 'Data': 'Full Set Observant and Feeling vs Else', 'TestError': obs_feel_avNN_err}, ignore_index = True)"
   ]
  },
  {
   "cell_type": "markdown",
   "metadata": {},
   "source": [
    "## Observant and Thinking (ST)\n",
    "using the full dataset"
   ]
  },
  {
   "cell_type": "code",
   "execution_count": 194,
   "metadata": {},
   "outputs": [],
   "source": [
    "ST_df500 = ST_df.sample(500)"
   ]
  },
  {
   "cell_type": "code",
   "execution_count": 195,
   "metadata": {},
   "outputs": [],
   "source": [
    "obs_thi_dfTrain, obs_thi_dfTest = lucem_illud.trainTestSplit(ST_df500, holdBackFraction =0.1)"
   ]
  },
  {
   "cell_type": "code",
   "execution_count": 196,
   "metadata": {},
   "outputs": [
    {
     "data": {
      "image/png": "[encoded data removed]",
      "text/plain": [
       "<Figure size 432x288 with 1 Axes>"
      ]
     },
     "metadata": {
      "needs_background": "light"
     },
     "output_type": "display_data"
    }
   ],
   "source": [
    "logit_reg_PCA(obs_thi_dfTrain, obs_thi_dfTest)"
   ]
  },
  {
   "cell_type": "code",
   "execution_count": 197,
   "metadata": {},
   "outputs": [
    {
     "name": "stdout",
     "output_type": "stream",
     "text": [
      "training error: 0.9577777777777777\n",
      "testing error: 0.66\n"
     ]
    }
   ],
   "source": [
    "obs_thiNB = naive_bayes(obs_thi_dfTrain, obs_thi_dfTest)"
   ]
  },
  {
   "cell_type": "code",
   "execution_count": 198,
   "metadata": {},
   "outputs": [
    {
     "data": {
      "image/png": "[encoded data removed]",
      "text/plain": [
       "<Figure size 432x288 with 1 Axes>"
      ]
     },
     "metadata": {
      "needs_background": "light"
     },
     "output_type": "display_data"
    }
   ],
   "source": [
    "obs_thi_NNeval = NeuralNet(obs_thi_dfTrain, obs_thi_dfTest)"
   ]
  },
  {
   "cell_type": "code",
   "execution_count": 199,
   "metadata": {},
   "outputs": [
    {
     "name": "stdout",
     "output_type": "stream",
     "text": [
      "          Error_Rate       AUC  Precision  Average_Precision    Recall\n",
      "Category                                                              \n",
      "False           0.36  0.524306   0.652174           0.651413  0.937500\n",
      "True            0.36  0.524306   0.500000           0.375556  0.111111\n"
     ]
    }
   ],
   "source": [
    "print(obs_thi_NNeval)"
   ]
  },
  {
   "cell_type": "code",
   "execution_count": 200,
   "metadata": {},
   "outputs": [],
   "source": [
    "results_df = results_df.append({'Model': 'Naive Bayes', 'Data': 'Full Set Observant and Thinking vs Else', 'TestError': 1-obs_thiNB[1]}, ignore_index = True)\n",
    "obs_thi_avNN_err = (obs_thi_NNeval['Error_Rate'][0] + obs_thi_NNeval['Error_Rate'][1])/2\n",
    "results_df = results_df.append({'Model': 'NN', 'Data': 'Full Set Observant and Thinking vs Else', 'TestError': obs_thi_avNN_err}, ignore_index = True)"
   ]
  },
  {
   "cell_type": "markdown",
   "metadata": {},
   "source": [
    "## Intuitive and Judging (NJ)\n",
    "using the full dataset"
   ]
  },
  {
   "cell_type": "code",
   "execution_count": 201,
   "metadata": {},
   "outputs": [],
   "source": [
    "NJ_df500 = NJ_df.sample(500)"
   ]
  },
  {
   "cell_type": "code",
   "execution_count": 202,
   "metadata": {},
   "outputs": [],
   "source": [
    "int_judg_dfTrain, int_judg_dfTest = lucem_illud.trainTestSplit(NJ_df500, holdBackFraction =0.1)"
   ]
  },
  {
   "cell_type": "code",
   "execution_count": 203,
   "metadata": {},
   "outputs": [
    {
     "data": {
      "image/png": "[encoded data removed]",
      "text/plain": [
       "<Figure size 432x288 with 1 Axes>"
      ]
     },
     "metadata": {
      "needs_background": "light"
     },
     "output_type": "display_data"
    }
   ],
   "source": [
    "logit_reg_PCA(int_judg_dfTrain, int_judg_dfTest)"
   ]
  },
  {
   "cell_type": "code",
   "execution_count": 204,
   "metadata": {},
   "outputs": [
    {
     "name": "stdout",
     "output_type": "stream",
     "text": [
      "training error: 0.9711111111111111\n",
      "testing error: 0.7\n"
     ]
    }
   ],
   "source": [
    "int_judgNB = naive_bayes(int_judg_dfTrain, int_judg_dfTest)"
   ]
  },
  {
   "cell_type": "code",
   "execution_count": 205,
   "metadata": {},
   "outputs": [
    {
     "data": {
      "image/png": "[encoded data removed]",
      "text/plain": [
       "<Figure size 432x288 with 1 Axes>"
      ]
     },
     "metadata": {
      "needs_background": "light"
     },
     "output_type": "display_data"
    }
   ],
   "source": [
    "int_judg_NNeval = NeuralNet(int_judg_dfTrain, int_judg_dfTest)"
   ]
  },
  {
   "cell_type": "code",
   "execution_count": 206,
   "metadata": {},
   "outputs": [
    {
     "name": "stdout",
     "output_type": "stream",
     "text": [
      "          Error_Rate       AUC  Precision  Average_Precision    Recall\n",
      "Category                                                              \n",
      "False           0.28  0.536383   0.755556           0.754294  0.918919\n",
      "True            0.28  0.536383   0.400000           0.281538  0.153846\n"
     ]
    }
   ],
   "source": [
    "print(int_judg_NNeval)"
   ]
  },
  {
   "cell_type": "code",
   "execution_count": 207,
   "metadata": {},
   "outputs": [],
   "source": [
    "results_df = results_df.append({'Model': 'Naive Bayes', 'Data': 'Full Set Intuitive and Judging vs Else', 'TestError': 1-int_judgNB[1]}, ignore_index = True)\n",
    "int_judg_avNN_err = (int_judg_NNeval['Error_Rate'][0] + int_judg_NNeval['Error_Rate'][1])/2\n",
    "results_df = results_df.append({'Model': 'NN', 'Data': 'Full Set Intuitive and Judging vs Else', 'TestError': int_judg_avNN_err}, ignore_index = True)"
   ]
  },
  {
   "cell_type": "markdown",
   "metadata": {},
   "source": [
    "## Intuitive and Prospecting (NP)\n",
    "using the full dataset"
   ]
  },
  {
   "cell_type": "code",
   "execution_count": 214,
   "metadata": {},
   "outputs": [],
   "source": [
    "NP_df500 = NP_df.sample(500)"
   ]
  },
  {
   "cell_type": "code",
   "execution_count": 215,
   "metadata": {},
   "outputs": [],
   "source": [
    "int_pro_dfTrain, int_pro_dfTest = lucem_illud.trainTestSplit(NP_df500, holdBackFraction =0.1)"
   ]
  },
  {
   "cell_type": "code",
   "execution_count": 216,
   "metadata": {},
   "outputs": [
    {
     "data": {
      "image/png": "[encoded data removed]",
      "text/plain": [
       "<Figure size 432x288 with 1 Axes>"
      ]
     },
     "metadata": {
      "needs_background": "light"
     },
     "output_type": "display_data"
    }
   ],
   "source": [
    "logit_reg_PCA(int_pro_dfTrain, int_pro_dfTest)"
   ]
  },
  {
   "cell_type": "code",
   "execution_count": 217,
   "metadata": {},
   "outputs": [
    {
     "name": "stdout",
     "output_type": "stream",
     "text": [
      "training error: 0.9777777777777777\n",
      "testing error: 0.7\n"
     ]
    }
   ],
   "source": [
    "int_prospNB= naive_bayes(int_pro_dfTrain, int_pro_dfTest)"
   ]
  },
  {
   "cell_type": "code",
   "execution_count": 218,
   "metadata": {},
   "outputs": [
    {
     "data": {
      "image/png": "[encoded data removed]",
      "text/plain": [
       "<Figure size 432x288 with 1 Axes>"
      ]
     },
     "metadata": {
      "needs_background": "light"
     },
     "output_type": "display_data"
    }
   ],
   "source": [
    "int_pro_NNeval = NeuralNet(int_pro_dfTrain, int_pro_dfTest)"
   ]
  },
  {
   "cell_type": "code",
   "execution_count": 219,
   "metadata": {},
   "outputs": [
    {
     "name": "stdout",
     "output_type": "stream",
     "text": [
      "          Error_Rate       AUC  Precision  Average_Precision    Recall\n",
      "Category                                                              \n",
      "False           0.32  0.516544     0.6875           0.687279  0.970588\n",
      "True            0.32  0.516544     0.5000           0.331250  0.062500\n"
     ]
    }
   ],
   "source": [
    "print(int_pro_NNeval)"
   ]
  },
  {
   "cell_type": "code",
   "execution_count": 220,
   "metadata": {},
   "outputs": [],
   "source": [
    "results_df = results_df.append({'Model': 'Naive Bayes', 'Data': 'Full Set Intuitive and Prospecting vs Else', 'TestError': 1-int_prospNB[1]}, ignore_index = True)\n",
    "int_pro_avNN_err = (int_pro_NNeval['Error_Rate'][0] + int_pro_NNeval['Error_Rate'][1])/2\n",
    "results_df = results_df.append({'Model': 'NN', 'Data': 'Full Set Intuitive and Prospecting vs Else', 'TestError': int_pro_avNN_err}, ignore_index = True)"
   ]
  },
  {
   "cell_type": "markdown",
   "metadata": {},
   "source": [
    "## now let's look at the dataframe for the error results:"
   ]
  },
  {
   "cell_type": "code",
   "execution_count": 222,
   "metadata": {},
   "outputs": [],
   "source": [
    "results_df.to_csv('Data/error_results.csv')"
   ]
  },
  {
   "cell_type": "code",
   "execution_count": 223,
   "metadata": {},
   "outputs": [
    {
     "data": {
      "text/html": [
       "<div>\n",
       "<style scoped>\n",
       "    .dataframe tbody tr th:only-of-type {\n",
       "        vertical-align: middle;\n",
       "    }\n",
       "\n",
       "    .dataframe tbody tr th {\n",
       "        vertical-align: top;\n",
       "    }\n",
       "\n",
       "    .dataframe thead th {\n",
       "        text-align: right;\n",
       "    }\n",
       "</style>\n",
       "<table border=\"1\" class=\"dataframe\">\n",
       "  <thead>\n",
       "    <tr style=\"text-align: right;\">\n",
       "      <th></th>\n",
       "      <th>Model</th>\n",
       "      <th>Data</th>\n",
       "      <th>TestError</th>\n",
       "    </tr>\n",
       "  </thead>\n",
       "  <tbody>\n",
       "    <tr>\n",
       "      <th>30</th>\n",
       "      <td>NN</td>\n",
       "      <td>SubSet Analyst vs Explorer</td>\n",
       "      <td>0.142857</td>\n",
       "    </tr>\n",
       "    <tr>\n",
       "      <th>0</th>\n",
       "      <td>Naive Bayes</td>\n",
       "      <td>Full Set Intro vs Extraverts</td>\n",
       "      <td>0.180000</td>\n",
       "    </tr>\n",
       "    <tr>\n",
       "      <th>29</th>\n",
       "      <td>Naive Bayes</td>\n",
       "      <td>SubSet Analyst vs Explorer</td>\n",
       "      <td>0.214286</td>\n",
       "    </tr>\n",
       "    <tr>\n",
       "      <th>27</th>\n",
       "      <td>Naive Bayes</td>\n",
       "      <td>SubSet Analyst vs Sentinel</td>\n",
       "      <td>0.220000</td>\n",
       "    </tr>\n",
       "    <tr>\n",
       "      <th>20</th>\n",
       "      <td>NN</td>\n",
       "      <td>SubSet Intuitive vs Observant</td>\n",
       "      <td>0.230000</td>\n",
       "    </tr>\n",
       "    <tr>\n",
       "      <th>19</th>\n",
       "      <td>Naive Bayes</td>\n",
       "      <td>SubSet Intuitive vs Observant</td>\n",
       "      <td>0.230000</td>\n",
       "    </tr>\n",
       "    <tr>\n",
       "      <th>31</th>\n",
       "      <td>Naive Bayes</td>\n",
       "      <td>SubSet Diplomat vs Sentinel</td>\n",
       "      <td>0.260000</td>\n",
       "    </tr>\n",
       "    <tr>\n",
       "      <th>32</th>\n",
       "      <td>NN</td>\n",
       "      <td>SubSet Diplomat vs Sentinel</td>\n",
       "      <td>0.270000</td>\n",
       "    </tr>\n",
       "    <tr>\n",
       "      <th>28</th>\n",
       "      <td>NN</td>\n",
       "      <td>SubSet Analyst vs Sentinel</td>\n",
       "      <td>0.270000</td>\n",
       "    </tr>\n",
       "    <tr>\n",
       "      <th>40</th>\n",
       "      <td>NN</td>\n",
       "      <td>Full Set Intuitive and Judging vs Else</td>\n",
       "      <td>0.280000</td>\n",
       "    </tr>\n",
       "    <tr>\n",
       "      <th>39</th>\n",
       "      <td>Naive Bayes</td>\n",
       "      <td>Full Set Intuitive and Judging vs Else</td>\n",
       "      <td>0.300000</td>\n",
       "    </tr>\n",
       "    <tr>\n",
       "      <th>41</th>\n",
       "      <td>Naive Bayes</td>\n",
       "      <td>Full Set Intuitive and Prospecting vs Else</td>\n",
       "      <td>0.300000</td>\n",
       "    </tr>\n",
       "    <tr>\n",
       "      <th>12</th>\n",
       "      <td>Naive Bayes</td>\n",
       "      <td>Full Set Sentinel vs Else</td>\n",
       "      <td>0.300000</td>\n",
       "    </tr>\n",
       "    <tr>\n",
       "      <th>13</th>\n",
       "      <td>NN</td>\n",
       "      <td>Full Set Sentinel vs Else</td>\n",
       "      <td>0.300000</td>\n",
       "    </tr>\n",
       "    <tr>\n",
       "      <th>33</th>\n",
       "      <td>Naive Bayes</td>\n",
       "      <td>SubSet Diplomat vs Explorer</td>\n",
       "      <td>0.314286</td>\n",
       "    </tr>\n",
       "    <tr>\n",
       "      <th>42</th>\n",
       "      <td>NN</td>\n",
       "      <td>Full Set Intuitive and Prospecting vs Else</td>\n",
       "      <td>0.320000</td>\n",
       "    </tr>\n",
       "    <tr>\n",
       "      <th>2</th>\n",
       "      <td>Naive Bayes</td>\n",
       "      <td>Full Set Intuitive vs Observant</td>\n",
       "      <td>0.320000</td>\n",
       "    </tr>\n",
       "    <tr>\n",
       "      <th>11</th>\n",
       "      <td>NN</td>\n",
       "      <td>Full Set Diplomat vs Else</td>\n",
       "      <td>0.320000</td>\n",
       "    </tr>\n",
       "    <tr>\n",
       "      <th>10</th>\n",
       "      <td>Naive Bayes</td>\n",
       "      <td>Full Set Diplomat vs Else</td>\n",
       "      <td>0.320000</td>\n",
       "    </tr>\n",
       "    <tr>\n",
       "      <th>9</th>\n",
       "      <td>NN</td>\n",
       "      <td>Full Set Analyst vs Else</td>\n",
       "      <td>0.320000</td>\n",
       "    </tr>\n",
       "    <tr>\n",
       "      <th>23</th>\n",
       "      <td>Naive Bayes</td>\n",
       "      <td>SubSet Thinking vs Feeling</td>\n",
       "      <td>0.330000</td>\n",
       "    </tr>\n",
       "    <tr>\n",
       "      <th>37</th>\n",
       "      <td>Naive Bayes</td>\n",
       "      <td>Full Set Observant and Thinking vs Else</td>\n",
       "      <td>0.340000</td>\n",
       "    </tr>\n",
       "    <tr>\n",
       "      <th>3</th>\n",
       "      <td>NN</td>\n",
       "      <td>Full Set Intuitive vs Observant</td>\n",
       "      <td>0.340000</td>\n",
       "    </tr>\n",
       "    <tr>\n",
       "      <th>8</th>\n",
       "      <td>Naive Bayes</td>\n",
       "      <td>Full Set Analyst vs Else</td>\n",
       "      <td>0.340000</td>\n",
       "    </tr>\n",
       "    <tr>\n",
       "      <th>34</th>\n",
       "      <td>NN</td>\n",
       "      <td>SubSet Diplomat vs Explorer</td>\n",
       "      <td>0.357143</td>\n",
       "    </tr>\n",
       "    <tr>\n",
       "      <th>7</th>\n",
       "      <td>NN</td>\n",
       "      <td>Full Set Thinking vs Feeling</td>\n",
       "      <td>0.360000</td>\n",
       "    </tr>\n",
       "    <tr>\n",
       "      <th>1</th>\n",
       "      <td>NN</td>\n",
       "      <td>Full Set Intro vs Extraverts</td>\n",
       "      <td>0.360000</td>\n",
       "    </tr>\n",
       "    <tr>\n",
       "      <th>38</th>\n",
       "      <td>NN</td>\n",
       "      <td>Full Set Observant and Thinking vs Else</td>\n",
       "      <td>0.360000</td>\n",
       "    </tr>\n",
       "    <tr>\n",
       "      <th>24</th>\n",
       "      <td>NN</td>\n",
       "      <td>SubSet Thinking vs Feeling</td>\n",
       "      <td>0.360000</td>\n",
       "    </tr>\n",
       "    <tr>\n",
       "      <th>21</th>\n",
       "      <td>Naive Bayes</td>\n",
       "      <td>SubSet Judging vs Prospecting</td>\n",
       "      <td>0.370000</td>\n",
       "    </tr>\n",
       "    <tr>\n",
       "      <th>6</th>\n",
       "      <td>Naive Bayes</td>\n",
       "      <td>Full Set Thinking vs Feeling</td>\n",
       "      <td>0.380000</td>\n",
       "    </tr>\n",
       "    <tr>\n",
       "      <th>22</th>\n",
       "      <td>NN</td>\n",
       "      <td>SubSet Judging vs Prospecting</td>\n",
       "      <td>0.400000</td>\n",
       "    </tr>\n",
       "    <tr>\n",
       "      <th>18</th>\n",
       "      <td>NN</td>\n",
       "      <td>SubSet Introvert vs Extravert</td>\n",
       "      <td>0.400000</td>\n",
       "    </tr>\n",
       "    <tr>\n",
       "      <th>35</th>\n",
       "      <td>Naive Bayes</td>\n",
       "      <td>Full Set Observant and Feeling vs Else</td>\n",
       "      <td>0.420000</td>\n",
       "    </tr>\n",
       "    <tr>\n",
       "      <th>36</th>\n",
       "      <td>NN</td>\n",
       "      <td>Full Set Observant and Feeling vs Else</td>\n",
       "      <td>0.420000</td>\n",
       "    </tr>\n",
       "    <tr>\n",
       "      <th>17</th>\n",
       "      <td>Naive Bayes</td>\n",
       "      <td>SubSet Introvert vs Extravert</td>\n",
       "      <td>0.430000</td>\n",
       "    </tr>\n",
       "    <tr>\n",
       "      <th>16</th>\n",
       "      <td>Naive Bayes</td>\n",
       "      <td>SubSet Introvert vs Extravert</td>\n",
       "      <td>0.430000</td>\n",
       "    </tr>\n",
       "    <tr>\n",
       "      <th>5</th>\n",
       "      <td>NN</td>\n",
       "      <td>Full Set Judging vs Prospecting</td>\n",
       "      <td>0.440000</td>\n",
       "    </tr>\n",
       "    <tr>\n",
       "      <th>4</th>\n",
       "      <td>Naive Bayes</td>\n",
       "      <td>Full Set Judging vs Prospecting</td>\n",
       "      <td>0.440000</td>\n",
       "    </tr>\n",
       "    <tr>\n",
       "      <th>26</th>\n",
       "      <td>NN</td>\n",
       "      <td>SubSet Analyst vs Diplomat</td>\n",
       "      <td>0.440000</td>\n",
       "    </tr>\n",
       "    <tr>\n",
       "      <th>14</th>\n",
       "      <td>Naive Bayes</td>\n",
       "      <td>Full Set Explorer vs Else</td>\n",
       "      <td>0.440000</td>\n",
       "    </tr>\n",
       "    <tr>\n",
       "      <th>25</th>\n",
       "      <td>Naive Bayes</td>\n",
       "      <td>SubSet Analyst vs Diplomat</td>\n",
       "      <td>0.450000</td>\n",
       "    </tr>\n",
       "    <tr>\n",
       "      <th>15</th>\n",
       "      <td>NN</td>\n",
       "      <td>Full Set Explorer vs Else</td>\n",
       "      <td>0.460000</td>\n",
       "    </tr>\n",
       "  </tbody>\n",
       "</table>\n",
       "</div>"
      ],
      "text/plain": [
       "          Model                                        Data  TestError\n",
       "30           NN                  SubSet Analyst vs Explorer   0.142857\n",
       "0   Naive Bayes                Full Set Intro vs Extraverts   0.180000\n",
       "29  Naive Bayes                  SubSet Analyst vs Explorer   0.214286\n",
       "27  Naive Bayes                  SubSet Analyst vs Sentinel   0.220000\n",
       "20           NN               SubSet Intuitive vs Observant   0.230000\n",
       "19  Naive Bayes               SubSet Intuitive vs Observant   0.230000\n",
       "31  Naive Bayes                 SubSet Diplomat vs Sentinel   0.260000\n",
       "32           NN                 SubSet Diplomat vs Sentinel   0.270000\n",
       "28           NN                  SubSet Analyst vs Sentinel   0.270000\n",
       "40           NN      Full Set Intuitive and Judging vs Else   0.280000\n",
       "39  Naive Bayes      Full Set Intuitive and Judging vs Else   0.300000\n",
       "41  Naive Bayes  Full Set Intuitive and Prospecting vs Else   0.300000\n",
       "12  Naive Bayes                   Full Set Sentinel vs Else   0.300000\n",
       "13           NN                   Full Set Sentinel vs Else   0.300000\n",
       "33  Naive Bayes                 SubSet Diplomat vs Explorer   0.314286\n",
       "42           NN  Full Set Intuitive and Prospecting vs Else   0.320000\n",
       "2   Naive Bayes             Full Set Intuitive vs Observant   0.320000\n",
       "11           NN                   Full Set Diplomat vs Else   0.320000\n",
       "10  Naive Bayes                   Full Set Diplomat vs Else   0.320000\n",
       "9            NN                    Full Set Analyst vs Else   0.320000\n",
       "23  Naive Bayes                  SubSet Thinking vs Feeling   0.330000\n",
       "37  Naive Bayes     Full Set Observant and Thinking vs Else   0.340000\n",
       "3            NN             Full Set Intuitive vs Observant   0.340000\n",
       "8   Naive Bayes                    Full Set Analyst vs Else   0.340000\n",
       "34           NN                 SubSet Diplomat vs Explorer   0.357143\n",
       "7            NN                Full Set Thinking vs Feeling   0.360000\n",
       "1            NN                Full Set Intro vs Extraverts   0.360000\n",
       "38           NN     Full Set Observant and Thinking vs Else   0.360000\n",
       "24           NN                  SubSet Thinking vs Feeling   0.360000\n",
       "21  Naive Bayes               SubSet Judging vs Prospecting   0.370000\n",
       "6   Naive Bayes                Full Set Thinking vs Feeling   0.380000\n",
       "22           NN               SubSet Judging vs Prospecting   0.400000\n",
       "18           NN               SubSet Introvert vs Extravert   0.400000\n",
       "35  Naive Bayes      Full Set Observant and Feeling vs Else   0.420000\n",
       "36           NN      Full Set Observant and Feeling vs Else   0.420000\n",
       "17  Naive Bayes               SubSet Introvert vs Extravert   0.430000\n",
       "16  Naive Bayes               SubSet Introvert vs Extravert   0.430000\n",
       "5            NN             Full Set Judging vs Prospecting   0.440000\n",
       "4   Naive Bayes             Full Set Judging vs Prospecting   0.440000\n",
       "26           NN                  SubSet Analyst vs Diplomat   0.440000\n",
       "14  Naive Bayes                   Full Set Explorer vs Else   0.440000\n",
       "25  Naive Bayes                  SubSet Analyst vs Diplomat   0.450000\n",
       "15           NN                   Full Set Explorer vs Else   0.460000"
      ]
     },
     "execution_count": 223,
     "metadata": {},
     "output_type": "execute_result"
    }
   ],
   "source": [
    "results_df.sort_values('TestError')"
   ]
  },
  {
   "cell_type": "code",
   "execution_count": null,
   "metadata": {},
   "outputs": [],
   "source": []
  }
 ],
 "metadata": {
  "kernelspec": {
   "display_name": "Python 3",
   "language": "python",
   "name": "python3"
  },
  "language_info": {
   "codemirror_mode": {
    "name": "ipython",
    "version": 3
   },
   "file_extension": ".py",
   "mimetype": "text/x-python",
   "name": "python",
   "nbconvert_exporter": "python",
   "pygments_lexer": "ipython3",
   "version": "3.8.5"
  }
 },
 "nbformat": 4,
 "nbformat_minor": 4
}
